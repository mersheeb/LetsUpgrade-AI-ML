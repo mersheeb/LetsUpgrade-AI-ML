{
 "cells": [
  {
   "cell_type": "markdown",
   "metadata": {},
   "source": [
    "# 1. Create a 3x3x3 array with random values "
   ]
  },
  {
   "cell_type": "code",
   "execution_count": 2,
   "metadata": {},
   "outputs": [
    {
     "data": {
      "text/plain": [
       "array([[[0.48308372, 0.18095715, 0.98822731],\n",
       "        [0.09296037, 0.44350908, 0.3440295 ],\n",
       "        [0.59326016, 0.80426554, 0.50845131]],\n",
       "\n",
       "       [[0.68571111, 0.6898944 , 0.44352685],\n",
       "        [0.73815713, 0.03667346, 0.86294555],\n",
       "        [0.10869432, 0.88768465, 0.32478842]],\n",
       "\n",
       "       [[0.90320712, 0.10797   , 0.73178515],\n",
       "        [0.97172756, 0.78836102, 0.00707564],\n",
       "        [0.39031912, 0.4327472 , 0.27481022]]])"
      ]
     },
     "execution_count": 2,
     "metadata": {},
     "output_type": "execute_result"
    }
   ],
   "source": [
    "import numpy as np\n",
    "arr=np.random.random((3,3,3))\n",
    "arr"
   ]
  },
  {
   "cell_type": "markdown",
   "metadata": {},
   "source": [
    "# 2.Create a 5x5 matrix with values 1,2,3,4 just below the diagonal"
   ]
  },
  {
   "cell_type": "code",
   "execution_count": 7,
   "metadata": {},
   "outputs": [
    {
     "data": {
      "text/plain": [
       "array([[0, 0, 0, 0, 0],\n",
       "       [1, 0, 0, 0, 0],\n",
       "       [0, 2, 0, 0, 0],\n",
       "       [0, 0, 3, 0, 0],\n",
       "       [0, 0, 0, 4, 0]])"
      ]
     },
     "execution_count": 7,
     "metadata": {},
     "output_type": "execute_result"
    }
   ],
   "source": [
    "s=np.diag(1+np.arange(4),k=-1)\n",
    "s"
   ]
  },
  {
   "cell_type": "markdown",
   "metadata": {},
   "source": [
    "# 3.Create a 8x8 matrix and fill it with a checkerboard pattern"
   ]
  },
  {
   "cell_type": "code",
   "execution_count": 14,
   "metadata": {},
   "outputs": [
    {
     "name": "stdout",
     "output_type": "stream",
     "text": [
      "[[0 1 0 1 0 1 0 1]\n",
      " [1 0 1 0 1 0 1 0]\n",
      " [0 1 0 1 0 1 0 1]\n",
      " [1 0 1 0 1 0 1 0]\n",
      " [0 1 0 1 0 1 0 1]\n",
      " [1 0 1 0 1 0 1 0]\n",
      " [0 1 0 1 0 1 0 1]\n",
      " [1 0 1 0 1 0 1 0]]\n"
     ]
    }
   ],
   "source": [
    "Z = np.zeros((8,8),dtype=int)\n",
    "Z[1::2,::2] = 1\n",
    "Z[::2,1::2] = 1\n",
    "print(Z)"
   ]
  },
  {
   "cell_type": "markdown",
   "metadata": {},
   "source": [
    "# 4. Normalize a 5x5 random matrix"
   ]
  },
  {
   "cell_type": "code",
   "execution_count": 15,
   "metadata": {},
   "outputs": [
    {
     "name": "stdout",
     "output_type": "stream",
     "text": [
      "[[ 5.42031605e-01 -1.21453687e+00 -4.60398153e-03 -5.08932268e-02\n",
      "  -3.89340812e-01]\n",
      " [ 4.79313763e-01 -1.07011333e-01  7.79679179e-01  4.67309017e-02\n",
      "  -1.97378024e+00]\n",
      " [ 8.88261528e-01  9.81791659e-01 -3.78281146e-01  1.44821189e+00\n",
      "  -5.32025618e-01]\n",
      " [ 1.07487243e+00 -1.87493209e+00 -1.85367266e-03  8.37797748e-01\n",
      "   1.25222601e+00]\n",
      " [ 7.65593147e-01 -1.71283961e+00 -1.10773060e+00 -9.54648304e-01\n",
      "   1.20596765e+00]]\n"
     ]
    }
   ],
   "source": [
    "Z = np.random.random((5,5))\n",
    "Z = (Z - np.mean (Z)) / (np.std (Z))\n",
    "print(Z)"
   ]
  },
  {
   "cell_type": "markdown",
   "metadata": {},
   "source": [
    "# 5.  How to find common values between two arrays?"
   ]
  },
  {
   "cell_type": "code",
   "execution_count": 19,
   "metadata": {},
   "outputs": [
    {
     "name": "stdout",
     "output_type": "stream",
     "text": [
      "[2 7 8]\n"
     ]
    }
   ],
   "source": [
    "a=np.random.randint(0,10,10)\n",
    "b=np.random.randint(0,10,10)\n",
    "print(np.intersect1d(a,b))"
   ]
  },
  {
   "cell_type": "markdown",
   "metadata": {},
   "source": [
    "# 6.How to get the dates of yesterday, today and tomorrow?"
   ]
  },
  {
   "cell_type": "code",
   "execution_count": 24,
   "metadata": {},
   "outputs": [
    {
     "name": "stdout",
     "output_type": "stream",
     "text": [
      "2020-08-10\n",
      "2020-08-09\n",
      "2020-08-11\n"
     ]
    }
   ],
   "source": [
    "today=np.datetime64('today')\n",
    "yesterday=np.datetime64('today')-np.timedelta64(1)\n",
    "tmrw=np.datetime64('today')+np.timedelta64(1)\n",
    "print(today)\n",
    "print(yesterday)\n",
    "print(tmrw)"
   ]
  },
  {
   "cell_type": "markdown",
   "metadata": {},
   "source": [
    "# 7. Consider two random array A and B, check if they are equal"
   ]
  },
  {
   "cell_type": "code",
   "execution_count": 28,
   "metadata": {},
   "outputs": [
    {
     "name": "stdout",
     "output_type": "stream",
     "text": [
      "[0 1 0 0 0]\n",
      "[0 1 0 0 0]\n",
      "True\n",
      "True\n"
     ]
    }
   ],
   "source": [
    "A = np.random.randint(0,2,5)\n",
    "B = np.random.randint(0,2,5)\n",
    "print(A)\n",
    "print(B)\n",
    "# Assuming identical shape of the arrays and a tolerance for the comparison of values\n",
    "equal = np.allclose(A,B)\n",
    "print(equal)\n",
    "\n",
    "# Checking both the shape and the element values, no tolerance (values have to be exactly equal)\n",
    "equal = np.array_equal(A,B)\n",
    "print(equal)"
   ]
  },
  {
   "cell_type": "markdown",
   "metadata": {},
   "source": [
    "# 8.Create random vector of size 10 and replace the maximum value by 0 "
   ]
  },
  {
   "cell_type": "code",
   "execution_count": 29,
   "metadata": {},
   "outputs": [
    {
     "name": "stdout",
     "output_type": "stream",
     "text": [
      "[0.86049109 0.83377092 0.12695608 0.40703192 0.46473997 0.\n",
      " 0.64209073 0.44511449 0.02133335 0.0712712 ]\n"
     ]
    }
   ],
   "source": [
    "Z = np.random.random(10)\n",
    "Z[Z.argmax()] = 0  #finding maximum arg\n",
    "print(Z)"
   ]
  },
  {
   "cell_type": "markdown",
   "metadata": {},
   "source": [
    "# 9. How to print all the values of an array?"
   ]
  },
  {
   "cell_type": "code",
   "execution_count": 31,
   "metadata": {},
   "outputs": [
    {
     "name": "stdout",
     "output_type": "stream",
     "text": [
      "[[0. 0. 0. 0. 0. 0. 0. 0. 0. 0. 0. 0. 0. 0. 0. 0.]\n",
      " [0. 0. 0. 0. 0. 0. 0. 0. 0. 0. 0. 0. 0. 0. 0. 0.]\n",
      " [0. 0. 0. 0. 0. 0. 0. 0. 0. 0. 0. 0. 0. 0. 0. 0.]\n",
      " [0. 0. 0. 0. 0. 0. 0. 0. 0. 0. 0. 0. 0. 0. 0. 0.]\n",
      " [0. 0. 0. 0. 0. 0. 0. 0. 0. 0. 0. 0. 0. 0. 0. 0.]\n",
      " [0. 0. 0. 0. 0. 0. 0. 0. 0. 0. 0. 0. 0. 0. 0. 0.]\n",
      " [0. 0. 0. 0. 0. 0. 0. 0. 0. 0. 0. 0. 0. 0. 0. 0.]\n",
      " [0. 0. 0. 0. 0. 0. 0. 0. 0. 0. 0. 0. 0. 0. 0. 0.]\n",
      " [0. 0. 0. 0. 0. 0. 0. 0. 0. 0. 0. 0. 0. 0. 0. 0.]\n",
      " [0. 0. 0. 0. 0. 0. 0. 0. 0. 0. 0. 0. 0. 0. 0. 0.]\n",
      " [0. 0. 0. 0. 0. 0. 0. 0. 0. 0. 0. 0. 0. 0. 0. 0.]\n",
      " [0. 0. 0. 0. 0. 0. 0. 0. 0. 0. 0. 0. 0. 0. 0. 0.]\n",
      " [0. 0. 0. 0. 0. 0. 0. 0. 0. 0. 0. 0. 0. 0. 0. 0.]\n",
      " [0. 0. 0. 0. 0. 0. 0. 0. 0. 0. 0. 0. 0. 0. 0. 0.]\n",
      " [0. 0. 0. 0. 0. 0. 0. 0. 0. 0. 0. 0. 0. 0. 0. 0.]\n",
      " [0. 0. 0. 0. 0. 0. 0. 0. 0. 0. 0. 0. 0. 0. 0. 0.]]\n"
     ]
    }
   ],
   "source": [
    "np.set_printoptions(threshold=float(\"inf\"))\n",
    "Z = np.zeros((16,16))\n",
    "print(Z)"
   ]
  },
  {
   "cell_type": "markdown",
   "metadata": {},
   "source": [
    "# 10.Subtract the mean of each row of a matrix"
   ]
  },
  {
   "cell_type": "code",
   "execution_count": 32,
   "metadata": {},
   "outputs": [
    {
     "name": "stdout",
     "output_type": "stream",
     "text": [
      "[[-0.18959615  0.31637447 -0.41849962  0.10884177 -0.32025376  0.39235252\n",
      "  -0.20263399 -0.2559753   0.41710617  0.15228387]\n",
      " [-0.29509214 -0.19438046  0.05582029  0.49270764 -0.00196763 -0.36918593\n",
      "  -0.04758827  0.00302707  0.45178696 -0.09512753]\n",
      " [-0.09810196 -0.50928951  0.01285643 -0.43442786  0.31688799  0.18396735\n",
      "   0.094963    0.37726539 -0.31608747  0.37196664]\n",
      " [-0.30154598  0.34899881 -0.38586397 -0.06438442  0.48350989  0.13211971\n",
      "  -0.20649588 -0.12343224  0.04279564  0.07429845]\n",
      " [-0.21063443  0.05582967 -0.30673206  0.09952029 -0.37502019 -0.24409235\n",
      "   0.33310943  0.32696852  0.44993047 -0.12887935]]\n",
      "[[-0.18959615  0.31637447 -0.41849962  0.10884177 -0.32025376  0.39235252\n",
      "  -0.20263399 -0.2559753   0.41710617  0.15228387]\n",
      " [-0.29509214 -0.19438046  0.05582029  0.49270764 -0.00196763 -0.36918593\n",
      "  -0.04758827  0.00302707  0.45178696 -0.09512753]\n",
      " [-0.09810196 -0.50928951  0.01285643 -0.43442786  0.31688799  0.18396735\n",
      "   0.094963    0.37726539 -0.31608747  0.37196664]\n",
      " [-0.30154598  0.34899881 -0.38586397 -0.06438442  0.48350989  0.13211971\n",
      "  -0.20649588 -0.12343224  0.04279564  0.07429845]\n",
      " [-0.21063443  0.05582967 -0.30673206  0.09952029 -0.37502019 -0.24409235\n",
      "   0.33310943  0.32696852  0.44993047 -0.12887935]]\n"
     ]
    }
   ],
   "source": [
    "X = np.random.rand(5, 10)\n",
    "\n",
    "# Recent versions of numpy\n",
    "Y = X - X.mean(axis=1, keepdims=True)\n",
    "\n",
    "# Older versions of numpy\n",
    "Y1 = X - X.mean(axis=1).reshape(-1, 1)\n",
    "\n",
    "print(Y)\n",
    "print(Y1)"
   ]
  },
  {
   "cell_type": "markdown",
   "metadata": {},
   "source": [
    "# 11.Consider a given vector, how to add 1 to each element indexed by a second vector (be careful with repeated indices)? "
   ]
  },
  {
   "cell_type": "code",
   "execution_count": 36,
   "metadata": {},
   "outputs": [
    {
     "name": "stdout",
     "output_type": "stream",
     "text": [
      "[1. 2. 5. 1. 1. 7. 2. 5. 4. 2.]\n"
     ]
    }
   ],
   "source": [
    "Z = np.ones(10)\n",
    "I = np.random.randint(0,len(Z),20)\n",
    "Z += np.bincount(I, minlength=len(Z))\n",
    "print(Z)"
   ]
  },
  {
   "cell_type": "code",
   "execution_count": 37,
   "metadata": {},
   "outputs": [
    {
     "name": "stdout",
     "output_type": "stream",
     "text": [
      "[ 1.  3.  9.  1.  1. 13.  3.  9.  7.  3.]\n"
     ]
    }
   ],
   "source": [
    "np.add.at(Z, I, 1)\n",
    "print(Z)"
   ]
  },
  {
   "cell_type": "markdown",
   "metadata": {},
   "source": [
    "# 12.How to get the diagonal of a dot product?"
   ]
  },
  {
   "cell_type": "code",
   "execution_count": 38,
   "metadata": {},
   "outputs": [
    {
     "name": "stdout",
     "output_type": "stream",
     "text": [
      "[[0.63678437 0.19809676 0.32381103 0.37593594 0.31250254]\n",
      " [0.78301525 0.74679457 0.51906052 0.1734544  0.42838146]\n",
      " [0.13349783 0.44241373 0.41169722 0.59848584 0.20289793]\n",
      " [0.79874418 0.26191436 0.95123774 0.43355651 0.73372859]\n",
      " [0.90934332 0.10731775 0.31347867 0.69563386 0.74650626]]\n",
      "[[0.35262685 0.78881824 0.51878659 0.17932955 0.04299905]\n",
      " [0.6670948  0.30646664 0.91905727 0.85616238 0.95924212]\n",
      " [0.92039032 0.91224941 0.27779708 0.39782622 0.5801845 ]\n",
      " [0.4321843  0.23800868 0.05474815 0.4821659  0.24418986]\n",
      " [0.91495003 0.13505248 0.58053077 0.31102097 0.24718744]]\n",
      "diagonal of a dot product method 1 is.... [1.10312695 1.41917462 0.74078321 1.1831581  0.67831377]\n",
      "diagonal of a dot product method 2 is.... [1.10312695 1.41917462 0.74078321 1.1831581  0.67831377]\n"
     ]
    }
   ],
   "source": [
    "A = np.random.uniform(0,1,(5,5))\n",
    "B = np.random.uniform(0,1,(5,5))\n",
    "print(A)\n",
    "print(B)\n",
    "# Slow version\n",
    "prod1=np.diag(np.dot(A, B))\n",
    "\n",
    "# Fast version\n",
    "prod2=np.sum(A * B.T, axis=1)\n",
    "\n",
    "print(\"diagonal of a dot product method 1 is....\",prod1)\n",
    "print(\"diagonal of a dot product method 2 is....\",prod2)"
   ]
  },
  {
   "cell_type": "markdown",
   "metadata": {},
   "source": [
    "# 13.How to find the most frequent value in an array?"
   ]
  },
  {
   "cell_type": "code",
   "execution_count": 45,
   "metadata": {},
   "outputs": [
    {
     "name": "stdout",
     "output_type": "stream",
     "text": [
      "[8 2 6 2 4 7 9 3 1 3 6 2 9 7 2 9 5 1 2 5 0 0 1 9 5 2 6 6 7 0 3 3 2 6 6 6 1\n",
      " 3 8 5 6 8 6 8 3 5 7 7 7 9]\n",
      "6\n"
     ]
    }
   ],
   "source": [
    "Z = np.random.randint(0,10,50)\n",
    "print(Z)\n",
    "print(np.bincount(Z).argmax())"
   ]
  },
  {
   "cell_type": "markdown",
   "metadata": {},
   "source": [
    "# 14.How to get the n largest values of an array"
   ]
  },
  {
   "cell_type": "code",
   "execution_count": 47,
   "metadata": {},
   "outputs": [
    {
     "name": "stdout",
     "output_type": "stream",
     "text": [
      "[9995 9996 9997 9998 9999]\n"
     ]
    }
   ],
   "source": [
    "Z = np.arange(10000)\n",
    "np.random.shuffle(Z)\n",
    "n = 5\n",
    "print (Z[np.argsort(Z)[-n:]])"
   ]
  },
  {
   "cell_type": "markdown",
   "metadata": {},
   "source": [
    "# 15.How to create a record array from a regular array?"
   ]
  },
  {
   "cell_type": "code",
   "execution_count": 48,
   "metadata": {},
   "outputs": [
    {
     "name": "stdout",
     "output_type": "stream",
     "text": [
      "[(b'Hello', 2.5, 3) (b'World', 3.6, 2)]\n"
     ]
    }
   ],
   "source": [
    "Z = np.array([(\"Hello\", 2.5, 3),\n",
    "              (\"World\", 3.6, 2)])\n",
    "R = np.core.records.fromarrays(Z.T,\n",
    "                               names='col1, col2, col3',\n",
    "                               formats = 'S8, f8, i8')\n",
    "print(R)"
   ]
  },
  {
   "cell_type": "code",
   "execution_count": null,
   "metadata": {},
   "outputs": [],
   "source": []
  }
 ],
 "metadata": {
  "kernelspec": {
   "display_name": "Python 3",
   "language": "python",
   "name": "python3"
  },
  "language_info": {
   "codemirror_mode": {
    "name": "ipython",
    "version": 3
   },
   "file_extension": ".py",
   "mimetype": "text/x-python",
   "name": "python",
   "nbconvert_exporter": "python",
   "pygments_lexer": "ipython3",
   "version": "3.7.6"
  }
 },
 "nbformat": 4,
 "nbformat_minor": 2
}
