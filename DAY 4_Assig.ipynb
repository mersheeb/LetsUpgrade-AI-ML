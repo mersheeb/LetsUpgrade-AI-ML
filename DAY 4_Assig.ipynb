{
 "cells": [
  {
   "cell_type": "code",
   "execution_count": 19,
   "metadata": {},
   "outputs": [
    {
     "name": "stdout",
     "output_type": "stream",
     "text": [
      "The addition of complex nos: (5+1j)\n",
      "The subtraction of complex nos: (1+7j)\n",
      "The multiplication of complex nos: (18-1j)\n",
      "The division of complex nos: (-0.46153846153846156+1.3076923076923077j)\n"
     ]
    },
    {
     "ename": "TypeError",
     "evalue": "can't mod complex numbers.",
     "output_type": "error",
     "traceback": [
      "\u001b[1;31m---------------------------------------------------------------------------\u001b[0m",
      "\u001b[1;31mTypeError\u001b[0m                                 Traceback (most recent call last)",
      "\u001b[1;32m<ipython-input-19-8a947b5e1179>\u001b[0m in \u001b[0;36m<module>\u001b[1;34m\u001b[0m\n\u001b[0;32m     14\u001b[0m \u001b[0mprint\u001b[0m\u001b[1;33m(\u001b[0m\u001b[1;34m\"The division of complex nos:\"\u001b[0m\u001b[1;33m,\u001b[0m\u001b[0mdiv\u001b[0m\u001b[1;33m)\u001b[0m\u001b[1;33m\u001b[0m\u001b[1;33m\u001b[0m\u001b[0m\n\u001b[0;32m     15\u001b[0m \u001b[1;31m#modulus\u001b[0m\u001b[1;33m\u001b[0m\u001b[1;33m\u001b[0m\u001b[1;33m\u001b[0m\u001b[0m\n\u001b[1;32m---> 16\u001b[1;33m \u001b[0mmod\u001b[0m \u001b[1;33m=\u001b[0m \u001b[1;33m(\u001b[0m\u001b[0mC1\u001b[0m \u001b[1;33m%\u001b[0m \u001b[0mC2\u001b[0m\u001b[1;33m)\u001b[0m\u001b[1;33m\u001b[0m\u001b[1;33m\u001b[0m\u001b[0m\n\u001b[0m\u001b[0;32m     17\u001b[0m \u001b[1;31m#floor division\u001b[0m\u001b[1;33m\u001b[0m\u001b[1;33m\u001b[0m\u001b[1;33m\u001b[0m\u001b[0m\n\u001b[0;32m     18\u001b[0m \u001b[0mfloordiv\u001b[0m\u001b[1;33m=\u001b[0m\u001b[1;33m(\u001b[0m\u001b[0mC1\u001b[0m\u001b[1;33m//\u001b[0m\u001b[0mC2\u001b[0m\u001b[1;33m)\u001b[0m\u001b[1;33m\u001b[0m\u001b[1;33m\u001b[0m\u001b[0m\n",
      "\u001b[1;31mTypeError\u001b[0m: can't mod complex numbers."
     ]
    }
   ],
   "source": [
    "#Q1 Research on whether addition, subtraction, multiplication, division, floor division and modulo\n",
    "#operations be performed on complex numbers. Based on your study, implement a Python\n",
    "#program to demonstrate these operations.\n",
    "import cmath\n",
    "C1= 3+4j\n",
    "C2= 2-3j\n",
    "add = C1 + C2\n",
    "print(\"The addition of complex nos:\",add)\n",
    "sub= C1-C2\n",
    "print(\"The subtraction of complex nos:\",sub)\n",
    "mul=C1*C2\n",
    "print(\"The multiplication of complex nos:\",mul)\n",
    "div=(C1/C2)\n",
    "print(\"The division of complex nos:\",div)\n",
    "#modulus\n",
    "mod = (C1 % C2)\n",
    "#floor division\n",
    "floordiv=(C1//C2)\n",
    "# we can't do floor division and modulus in complex nos gives type error.All other operations are possible"
   ]
  },
  {
   "cell_type": "markdown",
   "metadata": {},
   "source": [
    "#Q2 Research on range() functions and its parameters. Create a markdown cell and write in your own\n",
    "#words (no copy-paste from google please) what you understand about it. Implement a small\n",
    "#program of your choice on the same."
   ]
  },
  {
   "cell_type": "markdown",
   "metadata": {},
   "source": [
    "Range() function \n",
    "This function is used to do operation upto a specified number of times.It is usually used for loop function.We can specify the start ,stop and step values for the sequence to be returned\n"
   ]
  },
  {
   "cell_type": "code",
   "execution_count": 18,
   "metadata": {},
   "outputs": [
    {
     "name": "stdout",
     "output_type": "stream",
     "text": [
      "0\n",
      "5\n",
      "10\n",
      "15\n"
     ]
    }
   ],
   "source": [
    "#Program with range function\n",
    "for i in range(0,20,5):\n",
    "    print (i)\n",
    "    "
   ]
  },
  {
   "cell_type": "code",
   "execution_count": 43,
   "metadata": {},
   "outputs": [
    {
     "name": "stdin",
     "output_type": "stream",
     "text": [
      "Enter the first number: 20\n",
      "Enter the second number: 10\n"
     ]
    },
    {
     "name": "stdout",
     "output_type": "stream",
     "text": [
      "The division output of the two numbers is: 2.0\n"
     ]
    }
   ],
   "source": [
    " #Q3 Consider two numbers. Perform their subtraction and if the result of subtraction is greater than\n",
    "#25, print their multiplication result else print their division result.\n",
    "\n",
    "n1=int(input(\"Enter the first number:\"))\n",
    "n2=int(input(\"Enter the second number:\"))\n",
    "sub=n1-n2\n",
    "\n",
    "if sub>25:\n",
    "    print(\"The multiplication output of the two numbers is:\",n1*n2)\n",
    "#elif sub<25:\n",
    "else:\n",
    "      print(\"The division output of the two numbers is:\",n1/n2) \n"
   ]
  },
  {
   "cell_type": "code",
   "execution_count": 42,
   "metadata": {},
   "outputs": [
    {
     "name": "stdout",
     "output_type": "stream",
     "text": [
      "98\n",
      "898\n",
      "2498\n",
      "3598\n",
      "782\n",
      "254\n"
     ]
    }
   ],
   "source": [
    "#Q4 Consider a list of 10 elements of integer values. If the number in the list is divisible by 2, print the\n",
    "#result as \"square of that number minus 2\".\n",
    "X=[10, 25, 30,47, 50, 60, 77, 28, 93, 16]\n",
    "for i in X:\n",
    "    if i % 2== 0:\n",
    "        print(i**2-2)"
   ]
  },
  {
   "cell_type": "code",
   "execution_count": 34,
   "metadata": {},
   "outputs": [
    {
     "name": "stdout",
     "output_type": "stream",
     "text": [
      "20\n",
      "45\n",
      "27\n",
      "18\n",
      "38\n",
      "19\n"
     ]
    }
   ],
   "source": [
    "#Q5 Consider a list of 10 elements. Print all the elements in the list which are greater than 7 when that\n",
    "#number is divided 2.\n",
    "Y=[12,20,45,27,13,18,10,8,38,19]\n",
    "for i in Y:\n",
    "    if i/2>7:\n",
    "        print(i)"
   ]
  }
 ],
 "metadata": {
  "kernelspec": {
   "display_name": "Python 3",
   "language": "python",
   "name": "python3"
  },
  "language_info": {
   "codemirror_mode": {
    "name": "ipython",
    "version": 3
   },
   "file_extension": ".py",
   "mimetype": "text/x-python",
   "name": "python",
   "nbconvert_exporter": "python",
   "pygments_lexer": "ipython3",
   "version": "3.7.6"
  }
 },
 "nbformat": 4,
 "nbformat_minor": 4
}
