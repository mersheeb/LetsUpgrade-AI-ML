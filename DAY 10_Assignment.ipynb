{
 "cells": [
  {
   "cell_type": "markdown",
   "metadata": {},
   "source": [
    "# HR Attrition Case Study (with Hypothesis)"
   ]
  },
  {
   "cell_type": "code",
   "execution_count": 4,
   "metadata": {},
   "outputs": [],
   "source": [
    "# Import packages"
   ]
  },
  {
   "cell_type": "code",
   "execution_count": 5,
   "metadata": {},
   "outputs": [],
   "source": [
    "import pandas as pd \n",
    "import numpy as np \n",
    "import matplotlib.pyplot as plt\n",
    "%matplotlib inline\n",
    "import seaborn as sns"
   ]
  },
  {
   "cell_type": "markdown",
   "metadata": {},
   "source": [
    "## Reading the Data"
   ]
  },
  {
   "cell_type": "code",
   "execution_count": 6,
   "metadata": {},
   "outputs": [
    {
     "data": {
      "text/html": [
       "<div>\n",
       "<style scoped>\n",
       "    .dataframe tbody tr th:only-of-type {\n",
       "        vertical-align: middle;\n",
       "    }\n",
       "\n",
       "    .dataframe tbody tr th {\n",
       "        vertical-align: top;\n",
       "    }\n",
       "\n",
       "    .dataframe thead th {\n",
       "        text-align: right;\n",
       "    }\n",
       "</style>\n",
       "<table border=\"1\" class=\"dataframe\">\n",
       "  <thead>\n",
       "    <tr style=\"text-align: right;\">\n",
       "      <th></th>\n",
       "      <th>0</th>\n",
       "      <th>1</th>\n",
       "      <th>2</th>\n",
       "      <th>3</th>\n",
       "      <th>4</th>\n",
       "    </tr>\n",
       "  </thead>\n",
       "  <tbody>\n",
       "    <tr>\n",
       "      <th>Age</th>\n",
       "      <td>51</td>\n",
       "      <td>31</td>\n",
       "      <td>32</td>\n",
       "      <td>38</td>\n",
       "      <td>32</td>\n",
       "    </tr>\n",
       "    <tr>\n",
       "      <th>Attrition</th>\n",
       "      <td>No</td>\n",
       "      <td>Yes</td>\n",
       "      <td>No</td>\n",
       "      <td>No</td>\n",
       "      <td>No</td>\n",
       "    </tr>\n",
       "    <tr>\n",
       "      <th>BusinessTravel</th>\n",
       "      <td>Travel_Rarely</td>\n",
       "      <td>Travel_Frequently</td>\n",
       "      <td>Travel_Frequently</td>\n",
       "      <td>Non-Travel</td>\n",
       "      <td>Travel_Rarely</td>\n",
       "    </tr>\n",
       "    <tr>\n",
       "      <th>Department</th>\n",
       "      <td>Sales</td>\n",
       "      <td>Research &amp; Development</td>\n",
       "      <td>Research &amp; Development</td>\n",
       "      <td>Research &amp; Development</td>\n",
       "      <td>Research &amp; Development</td>\n",
       "    </tr>\n",
       "    <tr>\n",
       "      <th>DistanceFromHome</th>\n",
       "      <td>6</td>\n",
       "      <td>10</td>\n",
       "      <td>17</td>\n",
       "      <td>2</td>\n",
       "      <td>10</td>\n",
       "    </tr>\n",
       "    <tr>\n",
       "      <th>Education</th>\n",
       "      <td>2</td>\n",
       "      <td>1</td>\n",
       "      <td>4</td>\n",
       "      <td>5</td>\n",
       "      <td>1</td>\n",
       "    </tr>\n",
       "    <tr>\n",
       "      <th>EducationField</th>\n",
       "      <td>Life Sciences</td>\n",
       "      <td>Life Sciences</td>\n",
       "      <td>Other</td>\n",
       "      <td>Life Sciences</td>\n",
       "      <td>Medical</td>\n",
       "    </tr>\n",
       "    <tr>\n",
       "      <th>EmployeeCount</th>\n",
       "      <td>1</td>\n",
       "      <td>1</td>\n",
       "      <td>1</td>\n",
       "      <td>1</td>\n",
       "      <td>1</td>\n",
       "    </tr>\n",
       "    <tr>\n",
       "      <th>EmployeeID</th>\n",
       "      <td>1</td>\n",
       "      <td>2</td>\n",
       "      <td>3</td>\n",
       "      <td>4</td>\n",
       "      <td>5</td>\n",
       "    </tr>\n",
       "    <tr>\n",
       "      <th>Gender</th>\n",
       "      <td>Female</td>\n",
       "      <td>Female</td>\n",
       "      <td>Male</td>\n",
       "      <td>Male</td>\n",
       "      <td>Male</td>\n",
       "    </tr>\n",
       "    <tr>\n",
       "      <th>JobLevel</th>\n",
       "      <td>1</td>\n",
       "      <td>1</td>\n",
       "      <td>4</td>\n",
       "      <td>3</td>\n",
       "      <td>1</td>\n",
       "    </tr>\n",
       "    <tr>\n",
       "      <th>JobRole</th>\n",
       "      <td>Healthcare Representative</td>\n",
       "      <td>Research Scientist</td>\n",
       "      <td>Sales Executive</td>\n",
       "      <td>Human Resources</td>\n",
       "      <td>Sales Executive</td>\n",
       "    </tr>\n",
       "    <tr>\n",
       "      <th>MaritalStatus</th>\n",
       "      <td>Married</td>\n",
       "      <td>Single</td>\n",
       "      <td>Married</td>\n",
       "      <td>Married</td>\n",
       "      <td>Single</td>\n",
       "    </tr>\n",
       "    <tr>\n",
       "      <th>MonthlyIncome</th>\n",
       "      <td>131160</td>\n",
       "      <td>41890</td>\n",
       "      <td>193280</td>\n",
       "      <td>83210</td>\n",
       "      <td>23420</td>\n",
       "    </tr>\n",
       "    <tr>\n",
       "      <th>NumCompaniesWorked</th>\n",
       "      <td>1</td>\n",
       "      <td>0</td>\n",
       "      <td>1</td>\n",
       "      <td>3</td>\n",
       "      <td>4</td>\n",
       "    </tr>\n",
       "    <tr>\n",
       "      <th>Over18</th>\n",
       "      <td>Y</td>\n",
       "      <td>Y</td>\n",
       "      <td>Y</td>\n",
       "      <td>Y</td>\n",
       "      <td>Y</td>\n",
       "    </tr>\n",
       "    <tr>\n",
       "      <th>PercentSalaryHike</th>\n",
       "      <td>11</td>\n",
       "      <td>23</td>\n",
       "      <td>15</td>\n",
       "      <td>11</td>\n",
       "      <td>12</td>\n",
       "    </tr>\n",
       "    <tr>\n",
       "      <th>StandardHours</th>\n",
       "      <td>8</td>\n",
       "      <td>8</td>\n",
       "      <td>8</td>\n",
       "      <td>8</td>\n",
       "      <td>8</td>\n",
       "    </tr>\n",
       "    <tr>\n",
       "      <th>StockOptionLevel</th>\n",
       "      <td>0</td>\n",
       "      <td>1</td>\n",
       "      <td>3</td>\n",
       "      <td>3</td>\n",
       "      <td>2</td>\n",
       "    </tr>\n",
       "    <tr>\n",
       "      <th>TotalWorkingYears</th>\n",
       "      <td>1</td>\n",
       "      <td>6</td>\n",
       "      <td>5</td>\n",
       "      <td>13</td>\n",
       "      <td>9</td>\n",
       "    </tr>\n",
       "    <tr>\n",
       "      <th>TrainingTimesLastYear</th>\n",
       "      <td>6</td>\n",
       "      <td>3</td>\n",
       "      <td>2</td>\n",
       "      <td>5</td>\n",
       "      <td>2</td>\n",
       "    </tr>\n",
       "    <tr>\n",
       "      <th>YearsAtCompany</th>\n",
       "      <td>1</td>\n",
       "      <td>5</td>\n",
       "      <td>5</td>\n",
       "      <td>8</td>\n",
       "      <td>6</td>\n",
       "    </tr>\n",
       "    <tr>\n",
       "      <th>YearsSinceLastPromotion</th>\n",
       "      <td>0</td>\n",
       "      <td>1</td>\n",
       "      <td>0</td>\n",
       "      <td>7</td>\n",
       "      <td>0</td>\n",
       "    </tr>\n",
       "    <tr>\n",
       "      <th>YearsWithCurrManager</th>\n",
       "      <td>0</td>\n",
       "      <td>4</td>\n",
       "      <td>3</td>\n",
       "      <td>5</td>\n",
       "      <td>4</td>\n",
       "    </tr>\n",
       "  </tbody>\n",
       "</table>\n",
       "</div>"
      ],
      "text/plain": [
       "                                                 0                       1  \\\n",
       "Age                                             51                      31   \n",
       "Attrition                                       No                     Yes   \n",
       "BusinessTravel                       Travel_Rarely       Travel_Frequently   \n",
       "Department                                   Sales  Research & Development   \n",
       "DistanceFromHome                                 6                      10   \n",
       "Education                                        2                       1   \n",
       "EducationField                       Life Sciences           Life Sciences   \n",
       "EmployeeCount                                    1                       1   \n",
       "EmployeeID                                       1                       2   \n",
       "Gender                                      Female                  Female   \n",
       "JobLevel                                         1                       1   \n",
       "JobRole                  Healthcare Representative      Research Scientist   \n",
       "MaritalStatus                              Married                  Single   \n",
       "MonthlyIncome                               131160                   41890   \n",
       "NumCompaniesWorked                               1                       0   \n",
       "Over18                                           Y                       Y   \n",
       "PercentSalaryHike                               11                      23   \n",
       "StandardHours                                    8                       8   \n",
       "StockOptionLevel                                 0                       1   \n",
       "TotalWorkingYears                                1                       6   \n",
       "TrainingTimesLastYear                            6                       3   \n",
       "YearsAtCompany                                   1                       5   \n",
       "YearsSinceLastPromotion                          0                       1   \n",
       "YearsWithCurrManager                             0                       4   \n",
       "\n",
       "                                              2                       3  \\\n",
       "Age                                          32                      38   \n",
       "Attrition                                    No                      No   \n",
       "BusinessTravel                Travel_Frequently              Non-Travel   \n",
       "Department               Research & Development  Research & Development   \n",
       "DistanceFromHome                             17                       2   \n",
       "Education                                     4                       5   \n",
       "EducationField                            Other           Life Sciences   \n",
       "EmployeeCount                                 1                       1   \n",
       "EmployeeID                                    3                       4   \n",
       "Gender                                     Male                    Male   \n",
       "JobLevel                                      4                       3   \n",
       "JobRole                         Sales Executive         Human Resources   \n",
       "MaritalStatus                           Married                 Married   \n",
       "MonthlyIncome                            193280                   83210   \n",
       "NumCompaniesWorked                            1                       3   \n",
       "Over18                                        Y                       Y   \n",
       "PercentSalaryHike                            15                      11   \n",
       "StandardHours                                 8                       8   \n",
       "StockOptionLevel                              3                       3   \n",
       "TotalWorkingYears                             5                      13   \n",
       "TrainingTimesLastYear                         2                       5   \n",
       "YearsAtCompany                                5                       8   \n",
       "YearsSinceLastPromotion                       0                       7   \n",
       "YearsWithCurrManager                          3                       5   \n",
       "\n",
       "                                              4  \n",
       "Age                                          32  \n",
       "Attrition                                    No  \n",
       "BusinessTravel                    Travel_Rarely  \n",
       "Department               Research & Development  \n",
       "DistanceFromHome                             10  \n",
       "Education                                     1  \n",
       "EducationField                          Medical  \n",
       "EmployeeCount                                 1  \n",
       "EmployeeID                                    5  \n",
       "Gender                                     Male  \n",
       "JobLevel                                      1  \n",
       "JobRole                         Sales Executive  \n",
       "MaritalStatus                            Single  \n",
       "MonthlyIncome                             23420  \n",
       "NumCompaniesWorked                            4  \n",
       "Over18                                        Y  \n",
       "PercentSalaryHike                            12  \n",
       "StandardHours                                 8  \n",
       "StockOptionLevel                              2  \n",
       "TotalWorkingYears                             9  \n",
       "TrainingTimesLastYear                         2  \n",
       "YearsAtCompany                                6  \n",
       "YearsSinceLastPromotion                       0  \n",
       "YearsWithCurrManager                          4  "
      ]
     },
     "execution_count": 6,
     "metadata": {},
     "output_type": "execute_result"
    }
   ],
   "source": [
    "df=pd.read_csv('general_data.csv') \n",
    "df.head() .T"
   ]
  },
  {
   "cell_type": "markdown",
   "metadata": {},
   "source": [
    "# Features of the Data"
   ]
  },
  {
   "cell_type": "code",
   "execution_count": 7,
   "metadata": {
    "scrolled": true
   },
   "outputs": [
    {
     "name": "stdout",
     "output_type": "stream",
     "text": [
      "<class 'pandas.core.frame.DataFrame'>\n",
      "RangeIndex: 4410 entries, 0 to 4409\n",
      "Data columns (total 24 columns):\n",
      " #   Column                   Non-Null Count  Dtype  \n",
      "---  ------                   --------------  -----  \n",
      " 0   Age                      4410 non-null   int64  \n",
      " 1   Attrition                4410 non-null   object \n",
      " 2   BusinessTravel           4410 non-null   object \n",
      " 3   Department               4410 non-null   object \n",
      " 4   DistanceFromHome         4410 non-null   int64  \n",
      " 5   Education                4410 non-null   int64  \n",
      " 6   EducationField           4410 non-null   object \n",
      " 7   EmployeeCount            4410 non-null   int64  \n",
      " 8   EmployeeID               4410 non-null   int64  \n",
      " 9   Gender                   4410 non-null   object \n",
      " 10  JobLevel                 4410 non-null   int64  \n",
      " 11  JobRole                  4410 non-null   object \n",
      " 12  MaritalStatus            4410 non-null   object \n",
      " 13  MonthlyIncome            4410 non-null   int64  \n",
      " 14  NumCompaniesWorked       4391 non-null   float64\n",
      " 15  Over18                   4410 non-null   object \n",
      " 16  PercentSalaryHike        4410 non-null   int64  \n",
      " 17  StandardHours            4410 non-null   int64  \n",
      " 18  StockOptionLevel         4410 non-null   int64  \n",
      " 19  TotalWorkingYears        4401 non-null   float64\n",
      " 20  TrainingTimesLastYear    4410 non-null   int64  \n",
      " 21  YearsAtCompany           4410 non-null   int64  \n",
      " 22  YearsSinceLastPromotion  4410 non-null   int64  \n",
      " 23  YearsWithCurrManager     4410 non-null   int64  \n",
      "dtypes: float64(2), int64(14), object(8)\n",
      "memory usage: 827.0+ KB\n"
     ]
    }
   ],
   "source": [
    "df.info()"
   ]
  },
  {
   "cell_type": "markdown",
   "metadata": {},
   "source": [
    "There are 4410 rows and 24 columns"
   ]
  },
  {
   "cell_type": "code",
   "execution_count": 8,
   "metadata": {},
   "outputs": [
    {
     "data": {
      "text/plain": [
       "(4410, 24)"
      ]
     },
     "execution_count": 8,
     "metadata": {},
     "output_type": "execute_result"
    }
   ],
   "source": [
    "df.shape"
   ]
  },
  {
   "cell_type": "code",
   "execution_count": 9,
   "metadata": {},
   "outputs": [
    {
     "data": {
      "text/html": [
       "<div>\n",
       "<style scoped>\n",
       "    .dataframe tbody tr th:only-of-type {\n",
       "        vertical-align: middle;\n",
       "    }\n",
       "\n",
       "    .dataframe tbody tr th {\n",
       "        vertical-align: top;\n",
       "    }\n",
       "\n",
       "    .dataframe thead th {\n",
       "        text-align: right;\n",
       "    }\n",
       "</style>\n",
       "<table border=\"1\" class=\"dataframe\">\n",
       "  <thead>\n",
       "    <tr style=\"text-align: right;\">\n",
       "      <th></th>\n",
       "      <th>count</th>\n",
       "      <th>mean</th>\n",
       "      <th>std</th>\n",
       "      <th>min</th>\n",
       "      <th>25%</th>\n",
       "      <th>50%</th>\n",
       "      <th>75%</th>\n",
       "      <th>max</th>\n",
       "    </tr>\n",
       "  </thead>\n",
       "  <tbody>\n",
       "    <tr>\n",
       "      <th>Age</th>\n",
       "      <td>4410.0</td>\n",
       "      <td>36.923810</td>\n",
       "      <td>9.133301</td>\n",
       "      <td>18.0</td>\n",
       "      <td>30.00</td>\n",
       "      <td>36.0</td>\n",
       "      <td>43.00</td>\n",
       "      <td>60.0</td>\n",
       "    </tr>\n",
       "    <tr>\n",
       "      <th>DistanceFromHome</th>\n",
       "      <td>4410.0</td>\n",
       "      <td>9.192517</td>\n",
       "      <td>8.105026</td>\n",
       "      <td>1.0</td>\n",
       "      <td>2.00</td>\n",
       "      <td>7.0</td>\n",
       "      <td>14.00</td>\n",
       "      <td>29.0</td>\n",
       "    </tr>\n",
       "    <tr>\n",
       "      <th>Education</th>\n",
       "      <td>4410.0</td>\n",
       "      <td>2.912925</td>\n",
       "      <td>1.023933</td>\n",
       "      <td>1.0</td>\n",
       "      <td>2.00</td>\n",
       "      <td>3.0</td>\n",
       "      <td>4.00</td>\n",
       "      <td>5.0</td>\n",
       "    </tr>\n",
       "    <tr>\n",
       "      <th>EmployeeCount</th>\n",
       "      <td>4410.0</td>\n",
       "      <td>1.000000</td>\n",
       "      <td>0.000000</td>\n",
       "      <td>1.0</td>\n",
       "      <td>1.00</td>\n",
       "      <td>1.0</td>\n",
       "      <td>1.00</td>\n",
       "      <td>1.0</td>\n",
       "    </tr>\n",
       "    <tr>\n",
       "      <th>EmployeeID</th>\n",
       "      <td>4410.0</td>\n",
       "      <td>2205.500000</td>\n",
       "      <td>1273.201673</td>\n",
       "      <td>1.0</td>\n",
       "      <td>1103.25</td>\n",
       "      <td>2205.5</td>\n",
       "      <td>3307.75</td>\n",
       "      <td>4410.0</td>\n",
       "    </tr>\n",
       "    <tr>\n",
       "      <th>JobLevel</th>\n",
       "      <td>4410.0</td>\n",
       "      <td>2.063946</td>\n",
       "      <td>1.106689</td>\n",
       "      <td>1.0</td>\n",
       "      <td>1.00</td>\n",
       "      <td>2.0</td>\n",
       "      <td>3.00</td>\n",
       "      <td>5.0</td>\n",
       "    </tr>\n",
       "    <tr>\n",
       "      <th>MonthlyIncome</th>\n",
       "      <td>4410.0</td>\n",
       "      <td>65029.312925</td>\n",
       "      <td>47068.888559</td>\n",
       "      <td>10090.0</td>\n",
       "      <td>29110.00</td>\n",
       "      <td>49190.0</td>\n",
       "      <td>83800.00</td>\n",
       "      <td>199990.0</td>\n",
       "    </tr>\n",
       "    <tr>\n",
       "      <th>NumCompaniesWorked</th>\n",
       "      <td>4391.0</td>\n",
       "      <td>2.694830</td>\n",
       "      <td>2.498887</td>\n",
       "      <td>0.0</td>\n",
       "      <td>1.00</td>\n",
       "      <td>2.0</td>\n",
       "      <td>4.00</td>\n",
       "      <td>9.0</td>\n",
       "    </tr>\n",
       "    <tr>\n",
       "      <th>PercentSalaryHike</th>\n",
       "      <td>4410.0</td>\n",
       "      <td>15.209524</td>\n",
       "      <td>3.659108</td>\n",
       "      <td>11.0</td>\n",
       "      <td>12.00</td>\n",
       "      <td>14.0</td>\n",
       "      <td>18.00</td>\n",
       "      <td>25.0</td>\n",
       "    </tr>\n",
       "    <tr>\n",
       "      <th>StandardHours</th>\n",
       "      <td>4410.0</td>\n",
       "      <td>8.000000</td>\n",
       "      <td>0.000000</td>\n",
       "      <td>8.0</td>\n",
       "      <td>8.00</td>\n",
       "      <td>8.0</td>\n",
       "      <td>8.00</td>\n",
       "      <td>8.0</td>\n",
       "    </tr>\n",
       "    <tr>\n",
       "      <th>StockOptionLevel</th>\n",
       "      <td>4410.0</td>\n",
       "      <td>0.793878</td>\n",
       "      <td>0.851883</td>\n",
       "      <td>0.0</td>\n",
       "      <td>0.00</td>\n",
       "      <td>1.0</td>\n",
       "      <td>1.00</td>\n",
       "      <td>3.0</td>\n",
       "    </tr>\n",
       "    <tr>\n",
       "      <th>TotalWorkingYears</th>\n",
       "      <td>4401.0</td>\n",
       "      <td>11.279936</td>\n",
       "      <td>7.782222</td>\n",
       "      <td>0.0</td>\n",
       "      <td>6.00</td>\n",
       "      <td>10.0</td>\n",
       "      <td>15.00</td>\n",
       "      <td>40.0</td>\n",
       "    </tr>\n",
       "    <tr>\n",
       "      <th>TrainingTimesLastYear</th>\n",
       "      <td>4410.0</td>\n",
       "      <td>2.799320</td>\n",
       "      <td>1.288978</td>\n",
       "      <td>0.0</td>\n",
       "      <td>2.00</td>\n",
       "      <td>3.0</td>\n",
       "      <td>3.00</td>\n",
       "      <td>6.0</td>\n",
       "    </tr>\n",
       "    <tr>\n",
       "      <th>YearsAtCompany</th>\n",
       "      <td>4410.0</td>\n",
       "      <td>7.008163</td>\n",
       "      <td>6.125135</td>\n",
       "      <td>0.0</td>\n",
       "      <td>3.00</td>\n",
       "      <td>5.0</td>\n",
       "      <td>9.00</td>\n",
       "      <td>40.0</td>\n",
       "    </tr>\n",
       "    <tr>\n",
       "      <th>YearsSinceLastPromotion</th>\n",
       "      <td>4410.0</td>\n",
       "      <td>2.187755</td>\n",
       "      <td>3.221699</td>\n",
       "      <td>0.0</td>\n",
       "      <td>0.00</td>\n",
       "      <td>1.0</td>\n",
       "      <td>3.00</td>\n",
       "      <td>15.0</td>\n",
       "    </tr>\n",
       "    <tr>\n",
       "      <th>YearsWithCurrManager</th>\n",
       "      <td>4410.0</td>\n",
       "      <td>4.123129</td>\n",
       "      <td>3.567327</td>\n",
       "      <td>0.0</td>\n",
       "      <td>2.00</td>\n",
       "      <td>3.0</td>\n",
       "      <td>7.00</td>\n",
       "      <td>17.0</td>\n",
       "    </tr>\n",
       "  </tbody>\n",
       "</table>\n",
       "</div>"
      ],
      "text/plain": [
       "                          count          mean           std      min  \\\n",
       "Age                      4410.0     36.923810      9.133301     18.0   \n",
       "DistanceFromHome         4410.0      9.192517      8.105026      1.0   \n",
       "Education                4410.0      2.912925      1.023933      1.0   \n",
       "EmployeeCount            4410.0      1.000000      0.000000      1.0   \n",
       "EmployeeID               4410.0   2205.500000   1273.201673      1.0   \n",
       "JobLevel                 4410.0      2.063946      1.106689      1.0   \n",
       "MonthlyIncome            4410.0  65029.312925  47068.888559  10090.0   \n",
       "NumCompaniesWorked       4391.0      2.694830      2.498887      0.0   \n",
       "PercentSalaryHike        4410.0     15.209524      3.659108     11.0   \n",
       "StandardHours            4410.0      8.000000      0.000000      8.0   \n",
       "StockOptionLevel         4410.0      0.793878      0.851883      0.0   \n",
       "TotalWorkingYears        4401.0     11.279936      7.782222      0.0   \n",
       "TrainingTimesLastYear    4410.0      2.799320      1.288978      0.0   \n",
       "YearsAtCompany           4410.0      7.008163      6.125135      0.0   \n",
       "YearsSinceLastPromotion  4410.0      2.187755      3.221699      0.0   \n",
       "YearsWithCurrManager     4410.0      4.123129      3.567327      0.0   \n",
       "\n",
       "                              25%      50%       75%       max  \n",
       "Age                         30.00     36.0     43.00      60.0  \n",
       "DistanceFromHome             2.00      7.0     14.00      29.0  \n",
       "Education                    2.00      3.0      4.00       5.0  \n",
       "EmployeeCount                1.00      1.0      1.00       1.0  \n",
       "EmployeeID                1103.25   2205.5   3307.75    4410.0  \n",
       "JobLevel                     1.00      2.0      3.00       5.0  \n",
       "MonthlyIncome            29110.00  49190.0  83800.00  199990.0  \n",
       "NumCompaniesWorked           1.00      2.0      4.00       9.0  \n",
       "PercentSalaryHike           12.00     14.0     18.00      25.0  \n",
       "StandardHours                8.00      8.0      8.00       8.0  \n",
       "StockOptionLevel             0.00      1.0      1.00       3.0  \n",
       "TotalWorkingYears            6.00     10.0     15.00      40.0  \n",
       "TrainingTimesLastYear        2.00      3.0      3.00       6.0  \n",
       "YearsAtCompany               3.00      5.0      9.00      40.0  \n",
       "YearsSinceLastPromotion      0.00      1.0      3.00      15.0  \n",
       "YearsWithCurrManager         2.00      3.0      7.00      17.0  "
      ]
     },
     "execution_count": 9,
     "metadata": {},
     "output_type": "execute_result"
    }
   ],
   "source": [
    "df.describe().T # Transposing the data for better clarity"
   ]
  },
  {
   "cell_type": "code",
   "execution_count": 10,
   "metadata": {},
   "outputs": [
    {
     "data": {
      "text/plain": [
       "Index(['Age', 'Attrition', 'BusinessTravel', 'Department', 'DistanceFromHome',\n",
       "       'Education', 'EducationField', 'EmployeeCount', 'EmployeeID', 'Gender',\n",
       "       'JobLevel', 'JobRole', 'MaritalStatus', 'MonthlyIncome',\n",
       "       'NumCompaniesWorked', 'Over18', 'PercentSalaryHike', 'StandardHours',\n",
       "       'StockOptionLevel', 'TotalWorkingYears', 'TrainingTimesLastYear',\n",
       "       'YearsAtCompany', 'YearsSinceLastPromotion', 'YearsWithCurrManager'],\n",
       "      dtype='object')"
      ]
     },
     "execution_count": 10,
     "metadata": {},
     "output_type": "execute_result"
    }
   ],
   "source": [
    "df.columns"
   ]
  },
  {
   "cell_type": "markdown",
   "metadata": {},
   "source": [
    "# Cleaning the Data"
   ]
  },
  {
   "cell_type": "code",
   "execution_count": 11,
   "metadata": {},
   "outputs": [
    {
     "data": {
      "image/png": "[encoded data removed]",
      "text/plain": [
       "<Figure size 864x576 with 1 Axes>"
      ]
     },
     "metadata": {
      "needs_background": "light"
     },
     "output_type": "display_data"
    }
   ],
   "source": [
    "plt.figure(figsize=(12,8))\n",
    "sns.heatmap(df.isnull(),cbar=False,cmap=\"YlGnBu\");"
   ]
  },
  {
   "cell_type": "code",
   "execution_count": 12,
   "metadata": {},
   "outputs": [
    {
     "data": {
      "text/plain": [
       "NumCompaniesWorked         19\n",
       "TotalWorkingYears           9\n",
       "YearsWithCurrManager        0\n",
       "JobLevel                    0\n",
       "Attrition                   0\n",
       "BusinessTravel              0\n",
       "Department                  0\n",
       "DistanceFromHome            0\n",
       "Education                   0\n",
       "EducationField              0\n",
       "EmployeeCount               0\n",
       "EmployeeID                  0\n",
       "Gender                      0\n",
       "JobRole                     0\n",
       "YearsSinceLastPromotion     0\n",
       "MaritalStatus               0\n",
       "MonthlyIncome               0\n",
       "Over18                      0\n",
       "PercentSalaryHike           0\n",
       "StandardHours               0\n",
       "StockOptionLevel            0\n",
       "TrainingTimesLastYear       0\n",
       "YearsAtCompany              0\n",
       "Age                         0\n",
       "dtype: int64"
      ]
     },
     "execution_count": 12,
     "metadata": {},
     "output_type": "execute_result"
    }
   ],
   "source": [
    "df.isnull().sum().sort_values(ascending=False)"
   ]
  },
  {
   "cell_type": "markdown",
   "metadata": {},
   "source": [
    "#### We can see that `NumCompaniesWorked` and `TotalWorkingYears` have missing values."
   ]
  },
  {
   "cell_type": "markdown",
   "metadata": {},
   "source": [
    "We would handle the missing values by replacing them with the last valid observation value of each column before the missing item"
   ]
  },
  {
   "cell_type": "code",
   "execution_count": 13,
   "metadata": {},
   "outputs": [],
   "source": [
    "cols_na = [\"NumCompaniesWorked\",\"TotalWorkingYears\"]"
   ]
  },
  {
   "cell_type": "markdown",
   "metadata": {},
   "source": [
    "#### Below are the columns with missing values"
   ]
  },
  {
   "cell_type": "code",
   "execution_count": 14,
   "metadata": {},
   "outputs": [
    {
     "data": {
      "text/plain": [
       "Int64Index([  23,  115,  137,  210,  308,  343,  476,  574,  647,  799,  932,\n",
       "            1103, 1312, 1517, 1521, 1711, 1996, 2365, 2367, 2696, 3063, 3120,\n",
       "            3533, 3818, 3910, 4226, 4395, 4409],\n",
       "           dtype='int64')"
      ]
     },
     "execution_count": 14,
     "metadata": {},
     "output_type": "execute_result"
    }
   ],
   "source": [
    "df_na = df[df.isnull().any(axis=1)][cols_na]\n",
    "df_na.index"
   ]
  },
  {
   "cell_type": "code",
   "execution_count": 15,
   "metadata": {},
   "outputs": [],
   "source": [
    "df.fillna(method='ffill', inplace=True) "
   ]
  },
  {
   "cell_type": "code",
   "execution_count": 16,
   "metadata": {},
   "outputs": [
    {
     "data": {
      "text/html": [
       "<div>\n",
       "<style scoped>\n",
       "    .dataframe tbody tr th:only-of-type {\n",
       "        vertical-align: middle;\n",
       "    }\n",
       "\n",
       "    .dataframe tbody tr th {\n",
       "        vertical-align: top;\n",
       "    }\n",
       "\n",
       "    .dataframe thead th {\n",
       "        text-align: right;\n",
       "    }\n",
       "</style>\n",
       "<table border=\"1\" class=\"dataframe\">\n",
       "  <thead>\n",
       "    <tr style=\"text-align: right;\">\n",
       "      <th></th>\n",
       "      <th>NumCompaniesWorked</th>\n",
       "      <th>TotalWorkingYears</th>\n",
       "    </tr>\n",
       "  </thead>\n",
       "  <tbody>\n",
       "    <tr>\n",
       "      <th>23</th>\n",
       "      <td>1.0</td>\n",
       "      <td>21.0</td>\n",
       "    </tr>\n",
       "    <tr>\n",
       "      <th>115</th>\n",
       "      <td>9.0</td>\n",
       "      <td>5.0</td>\n",
       "    </tr>\n",
       "    <tr>\n",
       "      <th>137</th>\n",
       "      <td>7.0</td>\n",
       "      <td>13.0</td>\n",
       "    </tr>\n",
       "    <tr>\n",
       "      <th>210</th>\n",
       "      <td>1.0</td>\n",
       "      <td>18.0</td>\n",
       "    </tr>\n",
       "    <tr>\n",
       "      <th>308</th>\n",
       "      <td>4.0</td>\n",
       "      <td>2.0</td>\n",
       "    </tr>\n",
       "    <tr>\n",
       "      <th>343</th>\n",
       "      <td>1.0</td>\n",
       "      <td>10.0</td>\n",
       "    </tr>\n",
       "    <tr>\n",
       "      <th>476</th>\n",
       "      <td>1.0</td>\n",
       "      <td>4.0</td>\n",
       "    </tr>\n",
       "    <tr>\n",
       "      <th>574</th>\n",
       "      <td>7.0</td>\n",
       "      <td>2.0</td>\n",
       "    </tr>\n",
       "    <tr>\n",
       "      <th>647</th>\n",
       "      <td>6.0</td>\n",
       "      <td>9.0</td>\n",
       "    </tr>\n",
       "    <tr>\n",
       "      <th>799</th>\n",
       "      <td>3.0</td>\n",
       "      <td>7.0</td>\n",
       "    </tr>\n",
       "    <tr>\n",
       "      <th>932</th>\n",
       "      <td>1.0</td>\n",
       "      <td>10.0</td>\n",
       "    </tr>\n",
       "    <tr>\n",
       "      <th>1103</th>\n",
       "      <td>8.0</td>\n",
       "      <td>8.0</td>\n",
       "    </tr>\n",
       "    <tr>\n",
       "      <th>1312</th>\n",
       "      <td>4.0</td>\n",
       "      <td>7.0</td>\n",
       "    </tr>\n",
       "    <tr>\n",
       "      <th>1517</th>\n",
       "      <td>7.0</td>\n",
       "      <td>19.0</td>\n",
       "    </tr>\n",
       "    <tr>\n",
       "      <th>1521</th>\n",
       "      <td>2.0</td>\n",
       "      <td>6.0</td>\n",
       "    </tr>\n",
       "    <tr>\n",
       "      <th>1711</th>\n",
       "      <td>0.0</td>\n",
       "      <td>6.0</td>\n",
       "    </tr>\n",
       "    <tr>\n",
       "      <th>1996</th>\n",
       "      <td>1.0</td>\n",
       "      <td>20.0</td>\n",
       "    </tr>\n",
       "    <tr>\n",
       "      <th>2365</th>\n",
       "      <td>1.0</td>\n",
       "      <td>0.0</td>\n",
       "    </tr>\n",
       "    <tr>\n",
       "      <th>2367</th>\n",
       "      <td>0.0</td>\n",
       "      <td>27.0</td>\n",
       "    </tr>\n",
       "    <tr>\n",
       "      <th>2696</th>\n",
       "      <td>0.0</td>\n",
       "      <td>6.0</td>\n",
       "    </tr>\n",
       "    <tr>\n",
       "      <th>3063</th>\n",
       "      <td>1.0</td>\n",
       "      <td>1.0</td>\n",
       "    </tr>\n",
       "    <tr>\n",
       "      <th>3120</th>\n",
       "      <td>4.0</td>\n",
       "      <td>4.0</td>\n",
       "    </tr>\n",
       "    <tr>\n",
       "      <th>3533</th>\n",
       "      <td>1.0</td>\n",
       "      <td>28.0</td>\n",
       "    </tr>\n",
       "    <tr>\n",
       "      <th>3818</th>\n",
       "      <td>1.0</td>\n",
       "      <td>27.0</td>\n",
       "    </tr>\n",
       "    <tr>\n",
       "      <th>3910</th>\n",
       "      <td>1.0</td>\n",
       "      <td>10.0</td>\n",
       "    </tr>\n",
       "    <tr>\n",
       "      <th>4226</th>\n",
       "      <td>1.0</td>\n",
       "      <td>5.0</td>\n",
       "    </tr>\n",
       "    <tr>\n",
       "      <th>4395</th>\n",
       "      <td>2.0</td>\n",
       "      <td>9.0</td>\n",
       "    </tr>\n",
       "    <tr>\n",
       "      <th>4409</th>\n",
       "      <td>0.0</td>\n",
       "      <td>10.0</td>\n",
       "    </tr>\n",
       "  </tbody>\n",
       "</table>\n",
       "</div>"
      ],
      "text/plain": [
       "      NumCompaniesWorked  TotalWorkingYears\n",
       "23                   1.0               21.0\n",
       "115                  9.0                5.0\n",
       "137                  7.0               13.0\n",
       "210                  1.0               18.0\n",
       "308                  4.0                2.0\n",
       "343                  1.0               10.0\n",
       "476                  1.0                4.0\n",
       "574                  7.0                2.0\n",
       "647                  6.0                9.0\n",
       "799                  3.0                7.0\n",
       "932                  1.0               10.0\n",
       "1103                 8.0                8.0\n",
       "1312                 4.0                7.0\n",
       "1517                 7.0               19.0\n",
       "1521                 2.0                6.0\n",
       "1711                 0.0                6.0\n",
       "1996                 1.0               20.0\n",
       "2365                 1.0                0.0\n",
       "2367                 0.0               27.0\n",
       "2696                 0.0                6.0\n",
       "3063                 1.0                1.0\n",
       "3120                 4.0                4.0\n",
       "3533                 1.0               28.0\n",
       "3818                 1.0               27.0\n",
       "3910                 1.0               10.0\n",
       "4226                 1.0                5.0\n",
       "4395                 2.0                9.0\n",
       "4409                 0.0               10.0"
      ]
     },
     "execution_count": 16,
     "metadata": {},
     "output_type": "execute_result"
    }
   ],
   "source": [
    "df[cols_na].iloc[df_na.index]"
   ]
  },
  {
   "cell_type": "markdown",
   "metadata": {},
   "source": [
    "We check further on the counts using describe to see if counts are same for all columns or not :"
   ]
  },
  {
   "cell_type": "code",
   "execution_count": 17,
   "metadata": {},
   "outputs": [
    {
     "data": {
      "text/plain": [
       "Age                        4410.0\n",
       "DistanceFromHome           4410.0\n",
       "Education                  4410.0\n",
       "EmployeeCount              4410.0\n",
       "EmployeeID                 4410.0\n",
       "JobLevel                   4410.0\n",
       "MonthlyIncome              4410.0\n",
       "NumCompaniesWorked         4410.0\n",
       "PercentSalaryHike          4410.0\n",
       "StandardHours              4410.0\n",
       "StockOptionLevel           4410.0\n",
       "TotalWorkingYears          4410.0\n",
       "TrainingTimesLastYear      4410.0\n",
       "YearsAtCompany             4410.0\n",
       "YearsSinceLastPromotion    4410.0\n",
       "YearsWithCurrManager       4410.0\n",
       "Name: count, dtype: float64"
      ]
     },
     "execution_count": 17,
     "metadata": {},
     "output_type": "execute_result"
    }
   ],
   "source": [
    "df.describe().transpose()['count'].sort_values()"
   ]
  },
  {
   "cell_type": "markdown",
   "metadata": {},
   "source": [
    "We can see now that there are no more missing values. <br> Now we will check if there are any duplicate rows - if yes those rows need to be removed."
   ]
  },
  {
   "cell_type": "code",
   "execution_count": 18,
   "metadata": {},
   "outputs": [
    {
     "data": {
      "text/plain": [
       "False"
      ]
     },
     "execution_count": 18,
     "metadata": {},
     "output_type": "execute_result"
    }
   ],
   "source": [
    "df.duplicated().any()"
   ]
  },
  {
   "cell_type": "markdown",
   "metadata": {},
   "source": [
    "# Univariate Analysis"
   ]
  },
  {
   "cell_type": "markdown",
   "metadata": {},
   "source": [
    "## Attrition distribution"
   ]
  },
  {
   "cell_type": "code",
   "execution_count": 36,
   "metadata": {},
   "outputs": [
    {
     "data": {
      "text/plain": [
       "No     3699\n",
       "Yes     711\n",
       "Name: Attrition, dtype: int64"
      ]
     },
     "execution_count": 36,
     "metadata": {},
     "output_type": "execute_result"
    }
   ],
   "source": [
    "df['Attrition'].value_counts()"
   ]
  },
  {
   "cell_type": "code",
   "execution_count": 37,
   "metadata": {},
   "outputs": [],
   "source": [
    "attrition_percent = df['Attrition'].value_counts()/df['Attrition'].count()"
   ]
  },
  {
   "cell_type": "code",
   "execution_count": 38,
   "metadata": {},
   "outputs": [
    {
     "data": {
      "text/plain": [
       "No     0.838776\n",
       "Yes    0.161224\n",
       "Name: Attrition, dtype: float64"
      ]
     },
     "execution_count": 38,
     "metadata": {},
     "output_type": "execute_result"
    }
   ],
   "source": [
    "attrition_percent"
   ]
  },
  {
   "cell_type": "code",
   "execution_count": 41,
   "metadata": {
    "scrolled": true
   },
   "outputs": [
    {
     "data": {
      "text/plain": [
       "<matplotlib.axes._subplots.AxesSubplot at 0x7f2949b601d0>"
      ]
     },
     "execution_count": 41,
     "metadata": {},
     "output_type": "execute_result"
    },
    {
     "data": {
      "image/png": "[encoded data removed]",
      "text/plain": [
       "<Figure size 432x288 with 1 Axes>"
      ]
     },
     "metadata": {},
     "output_type": "display_data"
    }
   ],
   "source": [
    "df['Attrition'].value_counts().plot(kind='pie', autopct = \"%1.1f%%\",shadow=True, startangle=90)"
   ]
  },
  {
   "cell_type": "markdown",
   "metadata": {},
   "source": [
    "### We can see that in the dataset 16.1% employees attrited and rest did not."
   ]
  },
  {
   "cell_type": "code",
   "execution_count": 47,
   "metadata": {
    "scrolled": false
   },
   "outputs": [
    {
     "data": {
      "image/png": "[encoded data removed]",
      "text/plain": [
       "<Figure size 432x288 with 1 Axes>"
      ]
     },
     "metadata": {},
     "output_type": "display_data"
    }
   ],
   "source": [
    "df['Gender'].value_counts().plot(kind='pie', autopct = \"%1.1f%%\");"
   ]
  },
  {
   "cell_type": "markdown",
   "metadata": {},
   "source": [
    "### In the dataset : There are total 60% male employees and 40% female employees\n"
   ]
  },
  {
   "cell_type": "code",
   "execution_count": 49,
   "metadata": {
    "scrolled": true
   },
   "outputs": [
    {
     "data": {
      "image/png": "[encoded data removed]",
      "text/plain": [
       "<Figure size 432x288 with 1 Axes>"
      ]
     },
     "metadata": {
      "needs_background": "light"
     },
     "output_type": "display_data"
    }
   ],
   "source": [
    "sns.countplot(x='Gender', hue='Attrition',data=df );"
   ]
  },
  {
   "cell_type": "code",
   "execution_count": 51,
   "metadata": {
    "scrolled": false
   },
   "outputs": [
    {
     "data": {
      "image/png": "[encoded data removed]",
      "text/plain": [
       "<Figure size 432x288 with 1 Axes>"
      ]
     },
     "metadata": {},
     "output_type": "display_data"
    }
   ],
   "source": [
    "df['StockOptionLevel'].value_counts().plot(kind='pie', autopct = \"%1.1f%%\");"
   ]
  },
  {
   "cell_type": "code",
   "execution_count": 53,
   "metadata": {},
   "outputs": [
    {
     "data": {
      "image/png": "[encoded data removed]",
      "text/plain": [
       "<Figure size 432x288 with 1 Axes>"
      ]
     },
     "metadata": {
      "needs_background": "light"
     },
     "output_type": "display_data"
    }
   ],
   "source": [
    "sns.countplot(x='StockOptionLevel', hue='Attrition', data=df);"
   ]
  },
  {
   "cell_type": "markdown",
   "metadata": {},
   "source": [
    "#### It can be seen that attrition is high is StockOptionLevel is less than 2."
   ]
  },
  {
   "cell_type": "code",
   "execution_count": 59,
   "metadata": {},
   "outputs": [
    {
     "data": {
      "image/png": "[encoded data removed]",
      "text/plain": [
       "<Figure size 432x288 with 1 Axes>"
      ]
     },
     "metadata": {},
     "output_type": "display_data"
    }
   ],
   "source": [
    "df['Department'].value_counts().plot(kind='pie', autopct = \"%1.1f%%\");"
   ]
  },
  {
   "cell_type": "code",
   "execution_count": 60,
   "metadata": {
    "scrolled": true
   },
   "outputs": [
    {
     "data": {
      "image/png": "[encoded data removed]",
      "text/plain": [
       "<Figure size 432x288 with 1 Axes>"
      ]
     },
     "metadata": {
      "needs_background": "light"
     },
     "output_type": "display_data"
    }
   ],
   "source": [
    "sns.countplot(x='Department', hue='Attrition', data=df);"
   ]
  },
  {
   "cell_type": "markdown",
   "metadata": {},
   "source": [
    "#### The employee from Research & Development Department have higher attrition rate compared to other departments."
   ]
  },
  {
   "cell_type": "markdown",
   "metadata": {},
   "source": [
    "##### Select columns and analyze\n",
    "<br> Select columns that have non-categorical and non-ordinal data like - <br> 'Age','DistanceFromHome','MonthlyIncome', 'NumCompaniesWorked', 'PercentSalaryHike','TotalWorkingYears', 'TrainingTimesLastYear', 'YearsAtCompany','YearsSinceLastPromotion', 'YearsWithCurrManager'\n",
    " "
   ]
  },
  {
   "cell_type": "code",
   "execution_count": 19,
   "metadata": {},
   "outputs": [],
   "source": [
    "uni_cols = ['Age','DistanceFromHome','MonthlyIncome', 'NumCompaniesWorked', 'PercentSalaryHike','TotalWorkingYears', 'TrainingTimesLastYear', 'YearsAtCompany','YearsSinceLastPromotion', 'YearsWithCurrManager']"
   ]
  },
  {
   "cell_type": "code",
   "execution_count": 20,
   "metadata": {
    "scrolled": true
   },
   "outputs": [
    {
     "data": {
      "text/html": [
       "<div>\n",
       "<style scoped>\n",
       "    .dataframe tbody tr th:only-of-type {\n",
       "        vertical-align: middle;\n",
       "    }\n",
       "\n",
       "    .dataframe tbody tr th {\n",
       "        vertical-align: top;\n",
       "    }\n",
       "\n",
       "    .dataframe thead th {\n",
       "        text-align: right;\n",
       "    }\n",
       "</style>\n",
       "<table border=\"1\" class=\"dataframe\">\n",
       "  <thead>\n",
       "    <tr style=\"text-align: right;\">\n",
       "      <th></th>\n",
       "      <th>count</th>\n",
       "      <th>mean</th>\n",
       "      <th>std</th>\n",
       "      <th>min</th>\n",
       "      <th>25%</th>\n",
       "      <th>50%</th>\n",
       "      <th>75%</th>\n",
       "      <th>max</th>\n",
       "      <th>IQR</th>\n",
       "    </tr>\n",
       "  </thead>\n",
       "  <tbody>\n",
       "    <tr>\n",
       "      <th>Age</th>\n",
       "      <td>4410.0</td>\n",
       "      <td>36.923810</td>\n",
       "      <td>9.133301</td>\n",
       "      <td>18.0</td>\n",
       "      <td>30.0</td>\n",
       "      <td>36.0</td>\n",
       "      <td>43.0</td>\n",
       "      <td>60.0</td>\n",
       "      <td>13.0</td>\n",
       "    </tr>\n",
       "    <tr>\n",
       "      <th>DistanceFromHome</th>\n",
       "      <td>4410.0</td>\n",
       "      <td>9.192517</td>\n",
       "      <td>8.105026</td>\n",
       "      <td>1.0</td>\n",
       "      <td>2.0</td>\n",
       "      <td>7.0</td>\n",
       "      <td>14.0</td>\n",
       "      <td>29.0</td>\n",
       "      <td>12.0</td>\n",
       "    </tr>\n",
       "    <tr>\n",
       "      <th>MonthlyIncome</th>\n",
       "      <td>4410.0</td>\n",
       "      <td>65029.312925</td>\n",
       "      <td>47068.888559</td>\n",
       "      <td>10090.0</td>\n",
       "      <td>29110.0</td>\n",
       "      <td>49190.0</td>\n",
       "      <td>83800.0</td>\n",
       "      <td>199990.0</td>\n",
       "      <td>54690.0</td>\n",
       "    </tr>\n",
       "    <tr>\n",
       "      <th>NumCompaniesWorked</th>\n",
       "      <td>4410.0</td>\n",
       "      <td>2.693197</td>\n",
       "      <td>2.499167</td>\n",
       "      <td>0.0</td>\n",
       "      <td>1.0</td>\n",
       "      <td>2.0</td>\n",
       "      <td>4.0</td>\n",
       "      <td>9.0</td>\n",
       "      <td>3.0</td>\n",
       "    </tr>\n",
       "    <tr>\n",
       "      <th>PercentSalaryHike</th>\n",
       "      <td>4410.0</td>\n",
       "      <td>15.209524</td>\n",
       "      <td>3.659108</td>\n",
       "      <td>11.0</td>\n",
       "      <td>12.0</td>\n",
       "      <td>14.0</td>\n",
       "      <td>18.0</td>\n",
       "      <td>25.0</td>\n",
       "      <td>6.0</td>\n",
       "    </tr>\n",
       "    <tr>\n",
       "      <th>TotalWorkingYears</th>\n",
       "      <td>4410.0</td>\n",
       "      <td>11.285261</td>\n",
       "      <td>7.787073</td>\n",
       "      <td>0.0</td>\n",
       "      <td>6.0</td>\n",
       "      <td>10.0</td>\n",
       "      <td>15.0</td>\n",
       "      <td>40.0</td>\n",
       "      <td>9.0</td>\n",
       "    </tr>\n",
       "    <tr>\n",
       "      <th>TrainingTimesLastYear</th>\n",
       "      <td>4410.0</td>\n",
       "      <td>2.799320</td>\n",
       "      <td>1.288978</td>\n",
       "      <td>0.0</td>\n",
       "      <td>2.0</td>\n",
       "      <td>3.0</td>\n",
       "      <td>3.0</td>\n",
       "      <td>6.0</td>\n",
       "      <td>1.0</td>\n",
       "    </tr>\n",
       "    <tr>\n",
       "      <th>YearsAtCompany</th>\n",
       "      <td>4410.0</td>\n",
       "      <td>7.008163</td>\n",
       "      <td>6.125135</td>\n",
       "      <td>0.0</td>\n",
       "      <td>3.0</td>\n",
       "      <td>5.0</td>\n",
       "      <td>9.0</td>\n",
       "      <td>40.0</td>\n",
       "      <td>6.0</td>\n",
       "    </tr>\n",
       "    <tr>\n",
       "      <th>YearsSinceLastPromotion</th>\n",
       "      <td>4410.0</td>\n",
       "      <td>2.187755</td>\n",
       "      <td>3.221699</td>\n",
       "      <td>0.0</td>\n",
       "      <td>0.0</td>\n",
       "      <td>1.0</td>\n",
       "      <td>3.0</td>\n",
       "      <td>15.0</td>\n",
       "      <td>3.0</td>\n",
       "    </tr>\n",
       "    <tr>\n",
       "      <th>YearsWithCurrManager</th>\n",
       "      <td>4410.0</td>\n",
       "      <td>4.123129</td>\n",
       "      <td>3.567327</td>\n",
       "      <td>0.0</td>\n",
       "      <td>2.0</td>\n",
       "      <td>3.0</td>\n",
       "      <td>7.0</td>\n",
       "      <td>17.0</td>\n",
       "      <td>5.0</td>\n",
       "    </tr>\n",
       "  </tbody>\n",
       "</table>\n",
       "</div>"
      ],
      "text/plain": [
       "                          count          mean           std      min      25%  \\\n",
       "Age                      4410.0     36.923810      9.133301     18.0     30.0   \n",
       "DistanceFromHome         4410.0      9.192517      8.105026      1.0      2.0   \n",
       "MonthlyIncome            4410.0  65029.312925  47068.888559  10090.0  29110.0   \n",
       "NumCompaniesWorked       4410.0      2.693197      2.499167      0.0      1.0   \n",
       "PercentSalaryHike        4410.0     15.209524      3.659108     11.0     12.0   \n",
       "TotalWorkingYears        4410.0     11.285261      7.787073      0.0      6.0   \n",
       "TrainingTimesLastYear    4410.0      2.799320      1.288978      0.0      2.0   \n",
       "YearsAtCompany           4410.0      7.008163      6.125135      0.0      3.0   \n",
       "YearsSinceLastPromotion  4410.0      2.187755      3.221699      0.0      0.0   \n",
       "YearsWithCurrManager     4410.0      4.123129      3.567327      0.0      2.0   \n",
       "\n",
       "                             50%      75%       max      IQR  \n",
       "Age                         36.0     43.0      60.0     13.0  \n",
       "DistanceFromHome             7.0     14.0      29.0     12.0  \n",
       "MonthlyIncome            49190.0  83800.0  199990.0  54690.0  \n",
       "NumCompaniesWorked           2.0      4.0       9.0      3.0  \n",
       "PercentSalaryHike           14.0     18.0      25.0      6.0  \n",
       "TotalWorkingYears           10.0     15.0      40.0      9.0  \n",
       "TrainingTimesLastYear        3.0      3.0       6.0      1.0  \n",
       "YearsAtCompany               5.0      9.0      40.0      6.0  \n",
       "YearsSinceLastPromotion      1.0      3.0      15.0      3.0  \n",
       "YearsWithCurrManager         3.0      7.0      17.0      5.0  "
      ]
     },
     "execution_count": 20,
     "metadata": {},
     "output_type": "execute_result"
    }
   ],
   "source": [
    "df_desc=df[uni_cols].describe() \n",
    "df_desc = df_desc.transpose()\n",
    "df_desc['IQR'] = df_desc['75%'] - df_desc['25%']\n",
    "df_desc"
   ]
  },
  {
   "cell_type": "markdown",
   "metadata": {},
   "source": [
    "#### Now below we choose only those cases where the `Attrition` = Yes"
   ]
  },
  {
   "cell_type": "code",
   "execution_count": 21,
   "metadata": {},
   "outputs": [
    {
     "data": {
      "text/html": [
       "<div>\n",
       "<style scoped>\n",
       "    .dataframe tbody tr th:only-of-type {\n",
       "        vertical-align: middle;\n",
       "    }\n",
       "\n",
       "    .dataframe tbody tr th {\n",
       "        vertical-align: top;\n",
       "    }\n",
       "\n",
       "    .dataframe thead th {\n",
       "        text-align: right;\n",
       "    }\n",
       "</style>\n",
       "<table border=\"1\" class=\"dataframe\">\n",
       "  <thead>\n",
       "    <tr style=\"text-align: right;\">\n",
       "      <th></th>\n",
       "      <th>count</th>\n",
       "      <th>mean</th>\n",
       "      <th>std</th>\n",
       "      <th>min</th>\n",
       "      <th>25%</th>\n",
       "      <th>50%</th>\n",
       "      <th>75%</th>\n",
       "      <th>max</th>\n",
       "      <th>IQR</th>\n",
       "    </tr>\n",
       "  </thead>\n",
       "  <tbody>\n",
       "    <tr>\n",
       "      <th>Age</th>\n",
       "      <td>711.0</td>\n",
       "      <td>33.607595</td>\n",
       "      <td>9.675693</td>\n",
       "      <td>18.0</td>\n",
       "      <td>28.0</td>\n",
       "      <td>32.0</td>\n",
       "      <td>39.0</td>\n",
       "      <td>58.0</td>\n",
       "      <td>11.0</td>\n",
       "    </tr>\n",
       "    <tr>\n",
       "      <th>DistanceFromHome</th>\n",
       "      <td>711.0</td>\n",
       "      <td>9.012658</td>\n",
       "      <td>7.772368</td>\n",
       "      <td>1.0</td>\n",
       "      <td>2.0</td>\n",
       "      <td>7.0</td>\n",
       "      <td>15.0</td>\n",
       "      <td>29.0</td>\n",
       "      <td>13.0</td>\n",
       "    </tr>\n",
       "    <tr>\n",
       "      <th>MonthlyIncome</th>\n",
       "      <td>711.0</td>\n",
       "      <td>61682.616034</td>\n",
       "      <td>44792.067695</td>\n",
       "      <td>10090.0</td>\n",
       "      <td>28440.0</td>\n",
       "      <td>49080.0</td>\n",
       "      <td>71040.0</td>\n",
       "      <td>198590.0</td>\n",
       "      <td>42600.0</td>\n",
       "    </tr>\n",
       "    <tr>\n",
       "      <th>NumCompaniesWorked</th>\n",
       "      <td>711.0</td>\n",
       "      <td>2.931083</td>\n",
       "      <td>2.674771</td>\n",
       "      <td>0.0</td>\n",
       "      <td>1.0</td>\n",
       "      <td>1.0</td>\n",
       "      <td>5.0</td>\n",
       "      <td>9.0</td>\n",
       "      <td>4.0</td>\n",
       "    </tr>\n",
       "    <tr>\n",
       "      <th>PercentSalaryHike</th>\n",
       "      <td>711.0</td>\n",
       "      <td>15.481013</td>\n",
       "      <td>3.775289</td>\n",
       "      <td>11.0</td>\n",
       "      <td>12.0</td>\n",
       "      <td>14.0</td>\n",
       "      <td>18.0</td>\n",
       "      <td>25.0</td>\n",
       "      <td>6.0</td>\n",
       "    </tr>\n",
       "    <tr>\n",
       "      <th>TotalWorkingYears</th>\n",
       "      <td>711.0</td>\n",
       "      <td>8.272855</td>\n",
       "      <td>7.192236</td>\n",
       "      <td>0.0</td>\n",
       "      <td>3.0</td>\n",
       "      <td>7.0</td>\n",
       "      <td>10.0</td>\n",
       "      <td>40.0</td>\n",
       "      <td>7.0</td>\n",
       "    </tr>\n",
       "    <tr>\n",
       "      <th>TrainingTimesLastYear</th>\n",
       "      <td>711.0</td>\n",
       "      <td>2.654008</td>\n",
       "      <td>1.154834</td>\n",
       "      <td>0.0</td>\n",
       "      <td>2.0</td>\n",
       "      <td>3.0</td>\n",
       "      <td>3.0</td>\n",
       "      <td>6.0</td>\n",
       "      <td>1.0</td>\n",
       "    </tr>\n",
       "    <tr>\n",
       "      <th>YearsAtCompany</th>\n",
       "      <td>711.0</td>\n",
       "      <td>5.130802</td>\n",
       "      <td>5.941598</td>\n",
       "      <td>0.0</td>\n",
       "      <td>1.0</td>\n",
       "      <td>3.0</td>\n",
       "      <td>7.0</td>\n",
       "      <td>40.0</td>\n",
       "      <td>6.0</td>\n",
       "    </tr>\n",
       "    <tr>\n",
       "      <th>YearsSinceLastPromotion</th>\n",
       "      <td>711.0</td>\n",
       "      <td>1.945148</td>\n",
       "      <td>3.148633</td>\n",
       "      <td>0.0</td>\n",
       "      <td>0.0</td>\n",
       "      <td>1.0</td>\n",
       "      <td>2.0</td>\n",
       "      <td>15.0</td>\n",
       "      <td>2.0</td>\n",
       "    </tr>\n",
       "    <tr>\n",
       "      <th>YearsWithCurrManager</th>\n",
       "      <td>711.0</td>\n",
       "      <td>2.852321</td>\n",
       "      <td>3.138918</td>\n",
       "      <td>0.0</td>\n",
       "      <td>0.0</td>\n",
       "      <td>2.0</td>\n",
       "      <td>5.0</td>\n",
       "      <td>14.0</td>\n",
       "      <td>5.0</td>\n",
       "    </tr>\n",
       "  </tbody>\n",
       "</table>\n",
       "</div>"
      ],
      "text/plain": [
       "                         count          mean           std      min      25%  \\\n",
       "Age                      711.0     33.607595      9.675693     18.0     28.0   \n",
       "DistanceFromHome         711.0      9.012658      7.772368      1.0      2.0   \n",
       "MonthlyIncome            711.0  61682.616034  44792.067695  10090.0  28440.0   \n",
       "NumCompaniesWorked       711.0      2.931083      2.674771      0.0      1.0   \n",
       "PercentSalaryHike        711.0     15.481013      3.775289     11.0     12.0   \n",
       "TotalWorkingYears        711.0      8.272855      7.192236      0.0      3.0   \n",
       "TrainingTimesLastYear    711.0      2.654008      1.154834      0.0      2.0   \n",
       "YearsAtCompany           711.0      5.130802      5.941598      0.0      1.0   \n",
       "YearsSinceLastPromotion  711.0      1.945148      3.148633      0.0      0.0   \n",
       "YearsWithCurrManager     711.0      2.852321      3.138918      0.0      0.0   \n",
       "\n",
       "                             50%      75%       max      IQR  \n",
       "Age                         32.0     39.0      58.0     11.0  \n",
       "DistanceFromHome             7.0     15.0      29.0     13.0  \n",
       "MonthlyIncome            49080.0  71040.0  198590.0  42600.0  \n",
       "NumCompaniesWorked           1.0      5.0       9.0      4.0  \n",
       "PercentSalaryHike           14.0     18.0      25.0      6.0  \n",
       "TotalWorkingYears            7.0     10.0      40.0      7.0  \n",
       "TrainingTimesLastYear        3.0      3.0       6.0      1.0  \n",
       "YearsAtCompany               3.0      7.0      40.0      6.0  \n",
       "YearsSinceLastPromotion      1.0      2.0      15.0      2.0  \n",
       "YearsWithCurrManager         2.0      5.0      14.0      5.0  "
      ]
     },
     "execution_count": 21,
     "metadata": {},
     "output_type": "execute_result"
    }
   ],
   "source": [
    "df_desc_yes=df[df['Attrition'] == 'Yes'][uni_cols].describe() \n",
    "df_desc_yes = df_desc_yes.transpose()\n",
    "df_desc_yes['IQR'] = df_desc_yes['75%'] - df_desc_yes['25%']\n",
    "df_desc_yes"
   ]
  },
  {
   "cell_type": "markdown",
   "metadata": {},
   "source": [
    "#####  - It can be noted above that we calculate the Inter Quartile range and see that attrition is among a wide range of salary ~ 42K\n",
    "#####  - Also, it can be seen that the mean salary who attrited is ~61k"
   ]
  },
  {
   "cell_type": "markdown",
   "metadata": {},
   "source": [
    "### Median"
   ]
  },
  {
   "cell_type": "code",
   "execution_count": 22,
   "metadata": {},
   "outputs": [
    {
     "data": {
      "text/plain": [
       "Age                           36.0\n",
       "DistanceFromHome               7.0\n",
       "MonthlyIncome              49190.0\n",
       "NumCompaniesWorked             2.0\n",
       "PercentSalaryHike             14.0\n",
       "TotalWorkingYears             10.0\n",
       "TrainingTimesLastYear          3.0\n",
       "YearsAtCompany                 5.0\n",
       "YearsSinceLastPromotion        1.0\n",
       "YearsWithCurrManager           3.0\n",
       "dtype: float64"
      ]
     },
     "execution_count": 22,
     "metadata": {},
     "output_type": "execute_result"
    }
   ],
   "source": [
    "# We check median values for all columns\n",
    "\n",
    "df_med=df[uni_cols].median()\n",
    "df_med"
   ]
  },
  {
   "cell_type": "code",
   "execution_count": 23,
   "metadata": {
    "scrolled": true
   },
   "outputs": [
    {
     "data": {
      "text/plain": [
       "Age                           32.0\n",
       "DistanceFromHome               7.0\n",
       "MonthlyIncome              49080.0\n",
       "NumCompaniesWorked             1.0\n",
       "PercentSalaryHike             14.0\n",
       "TotalWorkingYears              7.0\n",
       "TrainingTimesLastYear          3.0\n",
       "YearsAtCompany                 3.0\n",
       "YearsSinceLastPromotion        1.0\n",
       "YearsWithCurrManager           2.0\n",
       "dtype: float64"
      ]
     },
     "execution_count": 23,
     "metadata": {},
     "output_type": "execute_result"
    }
   ],
   "source": [
    "# We check median values for Attrition = Yes\n",
    "df_med_yes=df[df['Attrition'] == 'Yes'][uni_cols].median()\n",
    "df_med_yes"
   ]
  },
  {
   "cell_type": "code",
   "execution_count": 24,
   "metadata": {
    "scrolled": true
   },
   "outputs": [
    {
     "data": {
      "text/plain": [
       "Age                           36.0\n",
       "DistanceFromHome               7.0\n",
       "MonthlyIncome              49300.0\n",
       "NumCompaniesWorked             2.0\n",
       "PercentSalaryHike             14.0\n",
       "TotalWorkingYears             10.0\n",
       "TrainingTimesLastYear          3.0\n",
       "YearsAtCompany                 6.0\n",
       "YearsSinceLastPromotion        1.0\n",
       "YearsWithCurrManager           3.0\n",
       "dtype: float64"
      ]
     },
     "execution_count": 24,
     "metadata": {},
     "output_type": "execute_result"
    }
   ],
   "source": [
    "# We check median values for Attrition = No\n",
    "df_med_no=df[df['Attrition'] == 'No'][uni_cols].median()\n",
    "df_med_no"
   ]
  },
  {
   "cell_type": "markdown",
   "metadata": {},
   "source": [
    "### Mode"
   ]
  },
  {
   "cell_type": "code",
   "execution_count": 25,
   "metadata": {},
   "outputs": [
    {
     "data": {
      "text/html": [
       "<div>\n",
       "<style scoped>\n",
       "    .dataframe tbody tr th:only-of-type {\n",
       "        vertical-align: middle;\n",
       "    }\n",
       "\n",
       "    .dataframe tbody tr th {\n",
       "        vertical-align: top;\n",
       "    }\n",
       "\n",
       "    .dataframe thead th {\n",
       "        text-align: right;\n",
       "    }\n",
       "</style>\n",
       "<table border=\"1\" class=\"dataframe\">\n",
       "  <thead>\n",
       "    <tr style=\"text-align: right;\">\n",
       "      <th></th>\n",
       "      <th>0</th>\n",
       "    </tr>\n",
       "  </thead>\n",
       "  <tbody>\n",
       "    <tr>\n",
       "      <th>Age</th>\n",
       "      <td>35.0</td>\n",
       "    </tr>\n",
       "    <tr>\n",
       "      <th>DistanceFromHome</th>\n",
       "      <td>2.0</td>\n",
       "    </tr>\n",
       "    <tr>\n",
       "      <th>MonthlyIncome</th>\n",
       "      <td>23420.0</td>\n",
       "    </tr>\n",
       "    <tr>\n",
       "      <th>NumCompaniesWorked</th>\n",
       "      <td>1.0</td>\n",
       "    </tr>\n",
       "    <tr>\n",
       "      <th>PercentSalaryHike</th>\n",
       "      <td>11.0</td>\n",
       "    </tr>\n",
       "    <tr>\n",
       "      <th>TotalWorkingYears</th>\n",
       "      <td>10.0</td>\n",
       "    </tr>\n",
       "    <tr>\n",
       "      <th>TrainingTimesLastYear</th>\n",
       "      <td>2.0</td>\n",
       "    </tr>\n",
       "    <tr>\n",
       "      <th>YearsAtCompany</th>\n",
       "      <td>5.0</td>\n",
       "    </tr>\n",
       "    <tr>\n",
       "      <th>YearsSinceLastPromotion</th>\n",
       "      <td>0.0</td>\n",
       "    </tr>\n",
       "    <tr>\n",
       "      <th>YearsWithCurrManager</th>\n",
       "      <td>2.0</td>\n",
       "    </tr>\n",
       "  </tbody>\n",
       "</table>\n",
       "</div>"
      ],
      "text/plain": [
       "                               0\n",
       "Age                         35.0\n",
       "DistanceFromHome             2.0\n",
       "MonthlyIncome            23420.0\n",
       "NumCompaniesWorked           1.0\n",
       "PercentSalaryHike           11.0\n",
       "TotalWorkingYears           10.0\n",
       "TrainingTimesLastYear        2.0\n",
       "YearsAtCompany               5.0\n",
       "YearsSinceLastPromotion      0.0\n",
       "YearsWithCurrManager         2.0"
      ]
     },
     "execution_count": 25,
     "metadata": {},
     "output_type": "execute_result"
    }
   ],
   "source": [
    "df_mode=df[uni_cols].mode()\n",
    "df_mode.transpose()"
   ]
  },
  {
   "cell_type": "code",
   "execution_count": 26,
   "metadata": {
    "scrolled": false
   },
   "outputs": [
    {
     "data": {
      "text/plain": [
       "Age                           29.0\n",
       "DistanceFromHome               2.0\n",
       "MonthlyIncome              25590.0\n",
       "NumCompaniesWorked             1.0\n",
       "PercentSalaryHike             13.0\n",
       "TotalWorkingYears              1.0\n",
       "TrainingTimesLastYear          2.0\n",
       "YearsAtCompany                 1.0\n",
       "YearsSinceLastPromotion        0.0\n",
       "YearsWithCurrManager           0.0\n",
       "Name: 0, dtype: float64"
      ]
     },
     "execution_count": 26,
     "metadata": {},
     "output_type": "execute_result"
    }
   ],
   "source": [
    "# We check median values for Attrition = Yes\n",
    "df_mode_yes=df[df['Attrition'] == 'Yes'][uni_cols].mode()\n",
    "df_mode_yes.transpose().iloc[:,0]\n"
   ]
  },
  {
   "cell_type": "markdown",
   "metadata": {},
   "source": [
    "##### We can see that most employees are leaving at age of 29 and who have a `PercentSalaryHike` (13) lower than median (14)"
   ]
  },
  {
   "cell_type": "markdown",
   "metadata": {},
   "source": [
    "### Variance"
   ]
  },
  {
   "cell_type": "code",
   "execution_count": 27,
   "metadata": {
    "scrolled": true
   },
   "outputs": [
    {
     "data": {
      "text/plain": [
       "TrainingTimesLastYear      1.661465e+00\n",
       "NumCompaniesWorked         6.245837e+00\n",
       "YearsSinceLastPromotion    1.037935e+01\n",
       "YearsWithCurrManager       1.272582e+01\n",
       "PercentSalaryHike          1.338907e+01\n",
       "YearsAtCompany             3.751728e+01\n",
       "TotalWorkingYears          6.063850e+01\n",
       "DistanceFromHome           6.569144e+01\n",
       "Age                        8.341719e+01\n",
       "MonthlyIncome              2.215480e+09\n",
       "dtype: float64"
      ]
     },
     "execution_count": 27,
     "metadata": {},
     "output_type": "execute_result"
    }
   ],
   "source": [
    "df_var=df[uni_cols].var().sort_values()\n",
    "df_var"
   ]
  },
  {
   "cell_type": "markdown",
   "metadata": {},
   "source": [
    "### Skewness"
   ]
  },
  {
   "cell_type": "code",
   "execution_count": 28,
   "metadata": {
    "scrolled": true
   },
   "outputs": [
    {
     "data": {
      "text/plain": [
       "Age                        0.413005\n",
       "TrainingTimesLastYear      0.552748\n",
       "PercentSalaryHike          0.820569\n",
       "YearsWithCurrManager       0.832884\n",
       "DistanceFromHome           0.957466\n",
       "NumCompaniesWorked         1.029043\n",
       "TotalWorkingYears          1.113861\n",
       "MonthlyIncome              1.368884\n",
       "YearsAtCompany             1.763328\n",
       "YearsSinceLastPromotion    1.982939\n",
       "dtype: float64"
      ]
     },
     "execution_count": 28,
     "metadata": {},
     "output_type": "execute_result"
    }
   ],
   "source": [
    "df_skew=df[uni_cols].skew().sort_values()\n",
    "df_skew"
   ]
  },
  {
   "cell_type": "markdown",
   "metadata": {},
   "source": [
    "### Kurtosis"
   ]
  },
  {
   "cell_type": "code",
   "execution_count": 29,
   "metadata": {},
   "outputs": [
    {
     "data": {
      "text/plain": [
       "Age                       -0.405951\n",
       "PercentSalaryHike         -0.302638\n",
       "DistanceFromHome          -0.227045\n",
       "NumCompaniesWorked         0.011277\n",
       "YearsWithCurrManager       0.167949\n",
       "TrainingTimesLastYear      0.491149\n",
       "TotalWorkingYears          0.901566\n",
       "MonthlyIncome              1.000232\n",
       "YearsSinceLastPromotion    3.601761\n",
       "YearsAtCompany             3.923864\n",
       "dtype: float64"
      ]
     },
     "execution_count": 29,
     "metadata": {},
     "output_type": "execute_result"
    }
   ],
   "source": [
    "df_kurt = df[uni_cols].kurt().sort_values()\n",
    "df_kurt"
   ]
  },
  {
   "cell_type": "markdown",
   "metadata": {},
   "source": [
    "# Inference "
   ]
  },
  {
   "cell_type": "markdown",
   "metadata": {},
   "source": [
    "- It can be noted above that we calculate the Inter Quartile range and see that attrition is among a wide range of salary ~ 42K\n",
    "\n",
    "- All the above variables show positive skewness; while Age & Mean_distance_from_home are leptokurtic and all other variables are platykurtic.\n",
    "\n",
    "- We can see that most employees are leaving at age of 29 and who have a PercentSalaryHike (13) lower than median (14)\n",
    "\n",
    "- Mean age forms a near normal distribution with 13 years of IQR fo the overall sample and of 11 years of IQR for those attrited\n"
   ]
  },
  {
   "cell_type": "markdown",
   "metadata": {},
   "source": [
    "# Further Outliers Check"
   ]
  },
  {
   "cell_type": "code",
   "execution_count": 30,
   "metadata": {
    "scrolled": true
   },
   "outputs": [
    {
     "data": {
      "image/png": "[encoded data removed]",
      "text/plain": [
       "<Figure size 432x288 with 1 Axes>"
      ]
     },
     "metadata": {
      "needs_background": "light"
     },
     "output_type": "display_data"
    }
   ],
   "source": [
    "box_plot=df.Age \n",
    "sns.boxplot(box_plot);"
   ]
  },
  {
   "cell_type": "markdown",
   "metadata": {},
   "source": [
    "##### Age is normally distributed without any outliers "
   ]
  },
  {
   "cell_type": "code",
   "execution_count": 31,
   "metadata": {
    "scrolled": true
   },
   "outputs": [
    {
     "data": {
      "image/png": "[encoded data removed]",
      "text/plain": [
       "<Figure size 432x288 with 1 Axes>"
      ]
     },
     "metadata": {
      "needs_background": "light"
     },
     "output_type": "display_data"
    }
   ],
   "source": [
    "box_plot_attrited = df[df['Attrition'] == 'Yes'].Age\n",
    "sns.boxplot(box_plot_attrited);"
   ]
  },
  {
   "cell_type": "markdown",
   "metadata": {},
   "source": [
    "##### Age of attrited is right skewed & few outliers are there between 55 to 60. We can see same depicted in the distribution plot below.\n"
   ]
  },
  {
   "cell_type": "code",
   "execution_count": 44,
   "metadata": {},
   "outputs": [
    {
     "data": {
      "image/png": "[encoded data removed]",
      "text/plain": [
       "<Figure size 432x288 with 1 Axes>"
      ]
     },
     "metadata": {
      "needs_background": "light"
     },
     "output_type": "display_data"
    }
   ],
   "source": [
    "sns.distplot(df[df['Attrition'] == 'Yes'].Age);"
   ]
  },
  {
   "cell_type": "code",
   "execution_count": 32,
   "metadata": {},
   "outputs": [
    {
     "data": {
      "image/png": "[encoded data removed]",
      "text/plain": [
       "<Figure size 432x288 with 1 Axes>"
      ]
     },
     "metadata": {
      "needs_background": "light"
     },
     "output_type": "display_data"
    }
   ],
   "source": [
    "box_plot=df.MonthlyIncome \n",
    "sns.boxplot(box_plot);"
   ]
  },
  {
   "cell_type": "markdown",
   "metadata": {},
   "source": [
    "##### Monthly Income is Right skewed with several outliers "
   ]
  },
  {
   "cell_type": "code",
   "execution_count": 33,
   "metadata": {},
   "outputs": [
    {
     "data": {
      "image/png": "[encoded data removed]",
      "text/plain": [
       "<Figure size 432x288 with 1 Axes>"
      ]
     },
     "metadata": {
      "needs_background": "light"
     },
     "output_type": "display_data"
    }
   ],
   "source": [
    "box_plot_attrited = df[df['Attrition'] == 'Yes'].MonthlyIncome\n",
    "sns.boxplot(box_plot_attrited);"
   ]
  },
  {
   "cell_type": "markdown",
   "metadata": {},
   "source": [
    "##### Monthly income of attrited individuals look normally distributed - but there are outliers showing many individuals with high salary leaving the company"
   ]
  },
  {
   "cell_type": "code",
   "execution_count": 34,
   "metadata": {},
   "outputs": [
    {
     "data": {
      "image/png": "[encoded data removed]",
      "text/plain": [
       "<Figure size 432x288 with 1 Axes>"
      ]
     },
     "metadata": {
      "needs_background": "light"
     },
     "output_type": "display_data"
    }
   ],
   "source": [
    "box_plot=df.YearsAtCompany \n",
    "sns.boxplot(box_plot);"
   ]
  },
  {
   "cell_type": "markdown",
   "metadata": {},
   "source": [
    "##### Years at company is also Right Skewed with several outliers observed. "
   ]
  },
  {
   "cell_type": "code",
   "execution_count": 35,
   "metadata": {},
   "outputs": [
    {
     "data": {
      "image/png": "[encoded data removed]",
      "text/plain": [
       "<Figure size 432x288 with 1 Axes>"
      ]
     },
     "metadata": {
      "needs_background": "light"
     },
     "output_type": "display_data"
    }
   ],
   "source": [
    "box_plot_attrited = df[df['Attrition'] == 'Yes'].YearsAtCompany\n",
    "sns.boxplot(box_plot_attrited);"
   ]
  },
  {
   "cell_type": "markdown",
   "metadata": {},
   "source": [
    "##### Even for attrited employees the distribution of Years at company is rightly skewed and with several outliers"
   ]
  },
  {
   "cell_type": "markdown",
   "metadata": {},
   "source": [
    "<br>"
   ]
  },
  {
   "cell_type": "markdown",
   "metadata": {},
   "source": [
    "<br>"
   ]
  },
  {
   "cell_type": "markdown",
   "metadata": {},
   "source": [
    "# HYPOTHESIS"
   ]
  },
  {
   "cell_type": "markdown",
   "metadata": {},
   "source": [
    "### **Hypothesis 1:** <br>\n",
    "The mean age of the employees who left the company is less than or equal to 32<br>\n",
    "\n",
    "H0: $mu$ $<=$ 32 <br>\n",
    "H1: $mu$ $>$ 32"
   ]
  },
  {
   "cell_type": "markdown",
   "metadata": {},
   "source": [
    "### **Hypothesis 2:**<br>\n",
    "\n",
    "The mean of employees who spent with their current manager is less than 3 years<br><br>\n",
    "H0: $mu$ $<=$ 3 <br>\n",
    "H1: $mu$ $>$ 3"
   ]
  },
  {
   "cell_type": "markdown",
   "metadata": {},
   "source": [
    "### **Hypothesis 3:** <br>\n",
    "\n",
    "The mean of total working years of employees who stayed in company is more than 10 years<br>\n",
    "\n",
    "H0: $mu$ $>=$ 10 <br>\n",
    "H1: $mu$ $<$ 10"
   ]
  },
  {
   "cell_type": "markdown",
   "metadata": {},
   "source": [
    "### **Hypothesis 4:** <br>\n",
    "The male employee have high attrition rate than female employees\n",
    "- Ho : μa > μb (Null Hypothesis where a denotes male employee and b denotes female employee)\n",
    "- H1 : μa < μb (Alternative Hypothesis)\n"
   ]
  },
  {
   "cell_type": "markdown",
   "metadata": {},
   "source": [
    "### **Hypothesis 5** <br>\n",
    "\n",
    "The mean of of employees with years since last promotion who has left the company is less than 2years.<br>\n",
    "\n",
    "H0: $mu$ $<=$ 2 <br>\n",
    "H1: $mu$ $>$ 2"
   ]
  },
  {
   "cell_type": "markdown",
   "metadata": {},
   "source": [
    "### **Hypothesis 6** <br>\n",
    "\n",
    "The mean monthly income of employees who has left the company is 61,000.<br>\n",
    "\n",
    "H0: $mu$ $=$ 61,000 <br>\n",
    "H1: $mu$ $!=$ 61,000"
   ]
  },
  {
   "cell_type": "markdown",
   "metadata": {},
   "source": [
    "### **Hypothesis 7** <br>\n",
    "\n",
    "The mean number of companies worked of employees who stayed in company is less than 2<br>\n",
    "\n",
    "H0: μ<= 2 <br>\n",
    "H1: μ > 2"
   ]
  },
  {
   "cell_type": "markdown",
   "metadata": {},
   "source": [
    "### **Hypothesis 8** <br>\n",
    "\n",
    "The employee who works in Research & Development Department have high attrition rate than who works in Sales Department\n",
    "-    Ho : μa >= μb (Null Hypothesis where a is Employee in Research & Development Department , b is Employee works in Sales Department )\n",
    "-    H1 : μa < μb (Alternative Hypothesis)\n"
   ]
  },
  {
   "cell_type": "markdown",
   "metadata": {},
   "source": [
    "### **Hypothesis 9** <br>\n",
    "The mean education of employess who stayed in the company XYZ are having bachelor's degree(Level=3)\n",
    "\n",
    "H0: $mu$ $=$ 3 <br>\n",
    "H1: $mu$ $!=$ 3"
   ]
  },
  {
   "cell_type": "markdown",
   "metadata": {},
   "source": [
    "### **Hypothesis 10** <br>\n",
    "The mean training time of employees who left the company XYZ is less than 2 years\n",
    "\n",
    "H0: $mu$ $<=$ 3 <br>\n",
    "H1: $mu$ $>$ 3"
   ]
  }
 ],
 "metadata": {
  "kernelspec": {
   "display_name": "Python 3",
   "language": "python",
   "name": "python3"
  },
  "language_info": {
   "codemirror_mode": {
    "name": "ipython",
    "version": 3
   },
   "file_extension": ".py",
   "mimetype": "text/x-python",
   "name": "python",
   "nbconvert_exporter": "python",
   "pygments_lexer": "ipython3",
   "version": "3.7.6"
  },
  "toc": {
   "base_numbering": 1,
   "nav_menu": {},
   "number_sections": true,
   "sideBar": true,
   "skip_h1_title": false,
   "title_cell": "Table of Contents",
   "title_sidebar": "Contents",
   "toc_cell": false,
   "toc_position": {},
   "toc_section_display": true,
   "toc_window_display": false
  }
 },
 "nbformat": 4,
 "nbformat_minor": 4
}
