{
 "cells": [
  {
   "cell_type": "markdown",
   "metadata": {},
   "source": [
    "Question 1:\n",
    "Assuming that we have some email addresses in the \"username@companyname.com\" format, please write program\n",
    "to print the company name of a given email address. Both user names and company names are composed of letters\n",
    "Only."
   ]
  },
  {
   "cell_type": "code",
   "execution_count": 13,
   "metadata": {},
   "outputs": [
    {
     "name": "stdout",
     "output_type": "stream",
     "text": [
      "Input-Enter your email address:\n",
      "merlinsheeba@microsoft.com\n",
      "Output-Company Name:\n",
      " microsoft\n"
     ]
    }
   ],
   "source": [
    "import re\n",
    "id=input(\"Input-Enter your email address:\\n\")\n",
    "x=re.split('\\@|\\.',id)\n",
    "print(\"Output-Company Name:\\n\",x[1])"
   ]
  },
  {
   "cell_type": "markdown",
   "metadata": {},
   "source": [
    "Question 2:\n",
    "Write a program that accepts a comma-separated sequence of words as input and prints the words in a comma\n",
    "separated sequence after sorting them alphabetically"
   ]
  },
  {
   "cell_type": "code",
   "execution_count": 11,
   "metadata": {},
   "outputs": [
    {
     "name": "stdout",
     "output_type": "stream",
     "text": [
      "Enter the sequence of words comma seperated:\n",
      "jug,mug,cat,run,apple\n",
      "After sorting\n",
      "\n",
      "apple,cat,jug,mug,run\n"
     ]
    }
   ],
   "source": [
    "s=input(\"Enter the sequence of words comma seperated:\\n\")\n",
    "s=s.split(',')\n",
    "s.sort()\n",
    "print('After sorting\\n')\n",
    "print(*s,sep=',')\n"
   ]
  },
  {
   "cell_type": "markdown",
   "metadata": {},
   "source": [
    "Question 3:\n",
    "Create your own Jupyter Notebook for Sets"
   ]
  },
  {
   "cell_type": "markdown",
   "metadata": {},
   "source": [
    "Sets in Python\n",
    "1. What are sets?\n",
    "A set contains an unordered collection of unique (no duplicates) and immutable objects (which cannot be changed).\n",
    "\n",
    "2. Why sets?\n",
    "Inmagine you have a box of a variety of fruits. You want to find out what are the types of fruits you have in this box. You write down the type of fruit on a paper as you take each fruit out of the box. The fruit names on the paper constitute a set. Why is it a set? First, you do not care about the order of fruits names - 'unordered'. Second, if there are ten strawberries in that box, you would only write down strawberry once - 'unique'. Third, you cannot change strawberry to cranberry - 'immutable'."
   ]
  },
  {
   "cell_type": "code",
   "execution_count": null,
   "metadata": {},
   "outputs": [],
   "source": [
    "animals={\"tiger\",\"dog\",\"lion\"}\n",
    "print(animals)\n",
    "for x in animals:\n",
    "  print(x)\n",
    "print(\"dog\" in animals)\n",
    "\n",
    "#set adding\n",
    "animals.add(\"cat\")\n",
    "\n",
    "print(animals)\n",
    "\n",
    "#set update\n",
    "animals.update([\"fox\", \"monkey\", \"zebra\"])\n",
    "\n",
    "print(animals)\n",
    "\n",
    "#set length\n",
    "print(len(animals))\n",
    "\n",
    "#set remove\n",
    "animals.remove(\"monkey\")\n",
    "print(animals)\n",
    "\n",
    "#set discard\n",
    "animals.discard(\"tiger\")\n",
    "\n",
    "print(animals)\n",
    "\n",
    "#set update\n",
    "birds={\"pigeon\",\"crow\",\"peacock\"}\n",
    "animals.update(birds)\n",
    "print(animals)\n",
    "\n",
    "# set construct\n",
    "animals = set(('dog', 'zebra', 'cat', 'lion', 'peacock', 'pigeon', 'crow', 'fox'))\n",
    "print(animals)\n",
    "\n",
    "#set union\n",
    "animals_birds=animals.union(birds)\n",
    "print(animals_birds)\n",
    "\n",
    "\n",
    "#set clear\n",
    "animals_birds.clear()\n",
    "print(animals_birds)\n",
    "\n",
    "#set del\n",
    "del(animals_birds)\n",
    "print(animals_birds)\n"
   ]
  },
  {
   "cell_type": "markdown",
   "metadata": {},
   "source": [
    "Question 4:\n",
    "Given a list of n-1 numbers ranging from 1 to n, your task is to find the missing number. There are no duplicates.\n"
   ]
  },
  {
   "cell_type": "code",
   "execution_count": 9,
   "metadata": {},
   "outputs": [
    {
     "name": "stdout",
     "output_type": "stream",
     "text": [
      "enter the numbers seperated by spaces\n",
      "1 3 4 5 6 7\n",
      "Missing number is 2\n"
     ]
    }
   ],
   "source": [
    "s=input(\"enter the numbers seperated by spaces\\n\")\n",
    "s=s.split()\n",
    "for i in range(len(s)):\n",
    "    s[i]=int(s[i])\n",
    "s.sort()\n",
    "for i in range(1,len(s)):\n",
    "    if s[i] == s[i-1]+1:\n",
    "        pass\n",
    "    else:\n",
    "        print(\"Missing number is\",s[i]-1)"
   ]
  },
  {
   "cell_type": "markdown",
   "metadata": {},
   "source": [
    "Question 5:\n",
    "With a given list L, write a program to print this list L after removing all duplicate values with original order reserved."
   ]
  },
  {
   "cell_type": "code",
   "execution_count": 10,
   "metadata": {},
   "outputs": [
    {
     "name": "stdout",
     "output_type": "stream",
     "text": [
      "Enter elements seperated by space\n",
      "1 3 3 4 5 6 6 7 \n",
      "After removing duplicate values, list values are\n",
      "[1, 3, 4, 5, 6, 7]\n"
     ]
    }
   ],
   "source": [
    "\n",
    "print(\"Enter elements seperated by space\")\n",
    "l=[int(x) for x in input().split()]\n",
    "print(\"After removing duplicate values, list values are\")\n",
    "r=[]\n",
    "for i in l:\n",
    "    if i not in r:\n",
    "        r.append(i)\n",
    "print(r)"
   ]
  }
 ],
 "metadata": {
  "kernelspec": {
   "display_name": "Python 3",
   "language": "python",
   "name": "python3"
  },
  "language_info": {
   "codemirror_mode": {
    "name": "ipython",
    "version": 3
   },
   "file_extension": ".py",
   "mimetype": "text/x-python",
   "name": "python",
   "nbconvert_exporter": "python",
   "pygments_lexer": "ipython3",
   "version": "3.7.6"
  }
 },
 "nbformat": 4,
 "nbformat_minor": 4
}
