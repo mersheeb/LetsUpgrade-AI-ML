{
 "cells": [
  {
   "cell_type": "code",
   "execution_count": 1,
   "metadata": {},
   "outputs": [
    {
     "name": "stdout",
     "output_type": "stream",
     "text": [
      "Subtraction of two complex numbers: (1+0j)\n"
     ]
    }
   ],
   "source": [
    "#subtraction of two complex numbers\n",
    "print(\"Subtraction of two complex numbers:\",(3+5j)-(2+5j))"
   ]
  },
  {
   "cell_type": "code",
   "execution_count": 3,
   "metadata": {},
   "outputs": [
    {
     "name": "stdin",
     "output_type": "stream",
     "text": [
      "Enter a number: 81\n"
     ]
    },
    {
     "name": "stdout",
     "output_type": "stream",
     "text": [
      "The fourth square root of 81 is: 3.0\n"
     ]
    }
   ],
   "source": [
    "#Write a program to find the fourth root of a number.\n",
    "import math\n",
    "n=int(input(\"Enter a number:\"))\n",
    "ans=math.sqrt(math.sqrt(n))\n",
    "print(\"The fourth square root of\",n,\"is:\",ans)"
   ]
  },
  {
   "cell_type": "code",
   "execution_count": 4,
   "metadata": {},
   "outputs": [
    {
     "name": "stdout",
     "output_type": "stream",
     "text": [
      "The values before swapping a= 2 b= 5\n",
      "The values after swapping a= 5 b= 2\n"
     ]
    }
   ],
   "source": [
    "# without using temporary variable to swap two numbers\n",
    "a=2\n",
    "b=5\n",
    "print(\"The values before swapping\",\"a=\", a,\"b=\",b)\n",
    "a,b=b,a\n",
    "print(\"The values after swapping\", \"a=\", a,\"b=\",b)"
   ]
  },
  {
   "cell_type": "code",
   "execution_count": 5,
   "metadata": {},
   "outputs": [
    {
     "name": "stdout",
     "output_type": "stream",
     "text": [
      "The values before swapping a= 2 b= 5\n",
      "The values after swapping a= 5 b= 2\n"
     ]
    }
   ],
   "source": [
    "#using temporary variable to swap two numbers\n",
    "a=2\n",
    "b=5\n",
    "print(\"The values before swapping\",\"a=\", a,\"b=\",b)\n",
    "temp=a\n",
    "a=b\n",
    "b=temp\n",
    "print(\"The values after swapping\", \"a=\", a,\"b=\",b)"
   ]
  },
  {
   "cell_type": "code",
   "execution_count": 6,
   "metadata": {},
   "outputs": [
    {
     "name": "stdout",
     "output_type": "stream",
     "text": [
      "The celsius temperature of 99.8 fahrenheit degree is 37.67 celsius\n",
      "The kelvin temperature of 99.8 fahrenheit degree is 311.17 Kelvin\n"
     ]
    }
   ],
   "source": [
    "# Conversion of Fahrenheit to Celsius and kelvin\n",
    "fahrenheit= 99.8\n",
    "celsius =round((fahrenheit - 32) / 1.8,2)\n",
    "print(\"The celsius temperature of\",fahrenheit,\"fahrenheit degree is\",celsius,\"celsius\")\n",
    "K = round(273.5 + ((fahrenheit - 32.0) * (5.0/9.0)),2)\n",
    "print(\"The kelvin temperature of\",fahrenheit,\"fahrenheit degree is\",K,\"Kelvin\")"
   ]
  },
  {
   "cell_type": "code",
   "execution_count": 7,
   "metadata": {},
   "outputs": [
    {
     "name": "stdout",
     "output_type": "stream",
     "text": [
      "7 is of type <class 'int'>\n",
      "5.0 is of type <class 'float'>\n",
      "(1+5j) is of type <class 'complex'>\n",
      "letsupgrade is of type <class 'str'>\n",
      "[] is of type <class 'list'>\n",
      "{5, 6, 7} is of type <class 'set'>\n",
      "{1: 2, 3: 4} is of type <class 'dict'>\n",
      "(5, 6, 7) is of type <class 'tuple'>\n"
     ]
    }
   ],
   "source": [
    "#Write a program to demonstrate all the available data types in Python. \n",
    "a=7\n",
    "print(a, \"is of type\", type(a))\n",
    "a = 5.0\n",
    "print(a, \"is of type\", type(a))\n",
    "a=1+5j\n",
    "print(a, \"is of type\", type(a))\n",
    "a=\"letsupgrade\"\n",
    "print(a, \"is of type\", type(a))\n",
    "a=[]\n",
    "print(a, \"is of type\", type(a))\n",
    "a={5,6,7}\n",
    "print(a, \"is of type\", type(a))\n",
    "a={1: 2, 3: 4}\n",
    "print(a, \"is of type\", type(a))\n",
    "a=(5, 6, 7)\n",
    "print(a, \"is of type\", type(a))"
   ]
  },
  {
   "cell_type": "markdown",
   "metadata": {},
   "source": [
    "GitHub profile creation procedure:\n",
    "\n",
    "Go to the website GitHub where u can upload ur code.\n",
    "We can keep the code as public or private.But usually public.\n",
    "Create a profile\n",
    "Signup \n",
    "Create New repository LetsUpgrade-AI-ML and its created\n",
    "Now click upload an existing file\n",
    "Now drag and drop the daywise assignments.After uploading simply click commit changes.\n",
    "After uploading the folder/file copy the url link of the file.\n",
    "Then in the assignment submission form given by LetsUpgrade ,fill the details selcet the day of the assignment from the dropdown.\n",
    "Then paste the GitHub url of the assignment url notebook that u have uploaded\n",
    "Check and confirm if the file is public before sumitting the form in incognito window.If file is visible then it is public.Then click submit.\n",
    "You will receive a google form submission response in your gmail account."
   ]
  },
  {
   "cell_type": "code",
   "execution_count": null,
   "metadata": {},
   "outputs": [],
   "source": []
  }
 ],
 "metadata": {
  "kernelspec": {
   "display_name": "Python 3",
   "language": "python",
   "name": "python3"
  },
  "language_info": {
   "codemirror_mode": {
    "name": "ipython",
    "version": 3
   },
   "file_extension": ".py",
   "mimetype": "text/x-python",
   "name": "python",
   "nbconvert_exporter": "python",
   "pygments_lexer": "ipython3",
   "version": "3.7.6"
  }
 },
 "nbformat": 4,
 "nbformat_minor": 4
}
